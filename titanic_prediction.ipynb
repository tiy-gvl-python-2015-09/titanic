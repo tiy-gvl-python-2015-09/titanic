{
 "cells": [
  {
   "cell_type": "code",
   "execution_count": 139,
   "metadata": {
    "collapsed": false
   },
   "outputs": [],
   "source": [
    "import pandas as pd\n",
    "import numpy as np\n",
    "import matplotlib.pyplot as plt\n",
    "import seaborn as sb\n",
    "import re"
   ]
  },
  {
   "cell_type": "code",
   "execution_count": 2,
   "metadata": {
    "collapsed": false
   },
   "outputs": [],
   "source": [
    "%matplotlib inline"
   ]
  },
  {
   "cell_type": "markdown",
   "metadata": {},
   "source": [
    "Given what we've learned so far, let's tackle [this Kaggle competition](https://www.kaggle.com/c/titanic-gettingStarted)."
   ]
  },
  {
   "cell_type": "markdown",
   "metadata": {},
   "source": [
    "----\n",
    "Read the `titanic/train.csv` and get some info on it."
   ]
  },
  {
   "cell_type": "code",
   "execution_count": 112,
   "metadata": {
    "collapsed": false
   },
   "outputs": [
    {
     "name": "stdout",
     "output_type": "stream",
     "text": [
      "<class 'pandas.core.frame.DataFrame'>\n",
      "Int64Index: 891 entries, 0 to 890\n",
      "Data columns (total 12 columns):\n",
      "PassengerId    891 non-null int64\n",
      "Survived       891 non-null int64\n",
      "Pclass         891 non-null int64\n",
      "Name           891 non-null object\n",
      "Sex            891 non-null object\n",
      "Age            714 non-null float64\n",
      "SibSp          891 non-null int64\n",
      "Parch          891 non-null int64\n",
      "Ticket         891 non-null object\n",
      "Fare           891 non-null float64\n",
      "Cabin          204 non-null object\n",
      "Embarked       889 non-null object\n",
      "dtypes: float64(2), int64(5), object(5)\n",
      "memory usage: 90.5+ KB\n"
     ]
    }
   ],
   "source": [
    "train = pd.read_csv(\"titanic/train.csv\")\n",
    "train.info()"
   ]
  },
  {
   "cell_type": "markdown",
   "metadata": {},
   "source": [
    "What does our `dataFrame.head()` look like?"
   ]
  },
  {
   "cell_type": "code",
   "execution_count": 4,
   "metadata": {
    "collapsed": false
   },
   "outputs": [
    {
     "data": {
      "text/html": [
       "<div>\n",
       "<table border=\"1\" class=\"dataframe\">\n",
       "  <thead>\n",
       "    <tr style=\"text-align: right;\">\n",
       "      <th></th>\n",
       "      <th>PassengerId</th>\n",
       "      <th>Survived</th>\n",
       "      <th>Pclass</th>\n",
       "      <th>Name</th>\n",
       "      <th>Sex</th>\n",
       "      <th>Age</th>\n",
       "      <th>SibSp</th>\n",
       "      <th>Parch</th>\n",
       "      <th>Ticket</th>\n",
       "      <th>Fare</th>\n",
       "      <th>Cabin</th>\n",
       "      <th>Embarked</th>\n",
       "    </tr>\n",
       "  </thead>\n",
       "  <tbody>\n",
       "    <tr>\n",
       "      <th>0</th>\n",
       "      <td>1</td>\n",
       "      <td>0</td>\n",
       "      <td>3</td>\n",
       "      <td>Braund, Mr. Owen Harris</td>\n",
       "      <td>male</td>\n",
       "      <td>22</td>\n",
       "      <td>1</td>\n",
       "      <td>0</td>\n",
       "      <td>A/5 21171</td>\n",
       "      <td>7.2500</td>\n",
       "      <td>NaN</td>\n",
       "      <td>S</td>\n",
       "    </tr>\n",
       "    <tr>\n",
       "      <th>1</th>\n",
       "      <td>2</td>\n",
       "      <td>1</td>\n",
       "      <td>1</td>\n",
       "      <td>Cumings, Mrs. John Bradley (Florence Briggs Th...</td>\n",
       "      <td>female</td>\n",
       "      <td>38</td>\n",
       "      <td>1</td>\n",
       "      <td>0</td>\n",
       "      <td>PC 17599</td>\n",
       "      <td>71.2833</td>\n",
       "      <td>C85</td>\n",
       "      <td>C</td>\n",
       "    </tr>\n",
       "    <tr>\n",
       "      <th>2</th>\n",
       "      <td>3</td>\n",
       "      <td>1</td>\n",
       "      <td>3</td>\n",
       "      <td>Heikkinen, Miss. Laina</td>\n",
       "      <td>female</td>\n",
       "      <td>26</td>\n",
       "      <td>0</td>\n",
       "      <td>0</td>\n",
       "      <td>STON/O2. 3101282</td>\n",
       "      <td>7.9250</td>\n",
       "      <td>NaN</td>\n",
       "      <td>S</td>\n",
       "    </tr>\n",
       "    <tr>\n",
       "      <th>3</th>\n",
       "      <td>4</td>\n",
       "      <td>1</td>\n",
       "      <td>1</td>\n",
       "      <td>Futrelle, Mrs. Jacques Heath (Lily May Peel)</td>\n",
       "      <td>female</td>\n",
       "      <td>35</td>\n",
       "      <td>1</td>\n",
       "      <td>0</td>\n",
       "      <td>113803</td>\n",
       "      <td>53.1000</td>\n",
       "      <td>C123</td>\n",
       "      <td>S</td>\n",
       "    </tr>\n",
       "    <tr>\n",
       "      <th>4</th>\n",
       "      <td>5</td>\n",
       "      <td>0</td>\n",
       "      <td>3</td>\n",
       "      <td>Allen, Mr. William Henry</td>\n",
       "      <td>male</td>\n",
       "      <td>35</td>\n",
       "      <td>0</td>\n",
       "      <td>0</td>\n",
       "      <td>373450</td>\n",
       "      <td>8.0500</td>\n",
       "      <td>NaN</td>\n",
       "      <td>S</td>\n",
       "    </tr>\n",
       "  </tbody>\n",
       "</table>\n",
       "</div>"
      ],
      "text/plain": [
       "   PassengerId  Survived  Pclass  \\\n",
       "0            1         0       3   \n",
       "1            2         1       1   \n",
       "2            3         1       3   \n",
       "3            4         1       1   \n",
       "4            5         0       3   \n",
       "\n",
       "                                                Name     Sex  Age  SibSp  \\\n",
       "0                            Braund, Mr. Owen Harris    male   22      1   \n",
       "1  Cumings, Mrs. John Bradley (Florence Briggs Th...  female   38      1   \n",
       "2                             Heikkinen, Miss. Laina  female   26      0   \n",
       "3       Futrelle, Mrs. Jacques Heath (Lily May Peel)  female   35      1   \n",
       "4                           Allen, Mr. William Henry    male   35      0   \n",
       "\n",
       "   Parch            Ticket     Fare Cabin Embarked  \n",
       "0      0         A/5 21171   7.2500   NaN        S  \n",
       "1      0          PC 17599  71.2833   C85        C  \n",
       "2      0  STON/O2. 3101282   7.9250   NaN        S  \n",
       "3      0            113803  53.1000  C123        S  \n",
       "4      0            373450   8.0500   NaN        S  "
      ]
     },
     "execution_count": 4,
     "metadata": {},
     "output_type": "execute_result"
    }
   ],
   "source": [
    "train.head()"
   ]
  },
  {
   "cell_type": "markdown",
   "metadata": {},
   "source": [
    "We've got many features here:\n",
    "\n",
    "* The passenger class (first, second, or third)\n",
    "* The sex of the passenger\n",
    "* The age of the passenger (some are missing -- we'll have to figure out what to do about that)\n",
    "* The number of siblings and spouses the passenger had on board (SubSp)\n",
    "* The number of parents and children the passenger had on board (Parch)\n",
    "* The amount the passenger paid for their ticket\n",
    "* Where the passenger embarked from\n",
    "\n",
    "The name and cabin are immaterial. The cabin might help, if we had a map of the ship and\n",
    "there weren't so many null values for cabin.\n",
    "\n",
    "_Using your intuition, what feature vectors might be important?_"
   ]
  },
  {
   "cell_type": "markdown",
   "metadata": {},
   "source": [
    "## Finding patterns in the data"
   ]
  },
  {
   "cell_type": "markdown",
   "metadata": {},
   "source": [
    "Lets make a horizontal bar chart based on the survival occurences given the sex of the passenger.\n",
    "\n",
    "<!---\n",
    "sex_results = pd.pivot_table(train, index=[\"Sex\"], values=[\"Survived\"])\n",
    "sex_results.plot(kind=\"barh\")\n",
    "plt.axvline(x=0.5, linewidth=2, color='r')\n",
    "sex_results\n",
    "-->"
   ]
  },
  {
   "cell_type": "code",
   "execution_count": 125,
   "metadata": {
    "collapsed": false
   },
   "outputs": [
    {
     "data": {
      "text/html": [
       "<div>\n",
       "<table border=\"1\" class=\"dataframe\">\n",
       "  <thead>\n",
       "    <tr style=\"text-align: right;\">\n",
       "      <th></th>\n",
       "      <th>Survived</th>\n",
       "    </tr>\n",
       "    <tr>\n",
       "      <th>Sex</th>\n",
       "      <th></th>\n",
       "    </tr>\n",
       "  </thead>\n",
       "  <tbody>\n",
       "    <tr>\n",
       "      <th>female</th>\n",
       "      <td>0.742038</td>\n",
       "    </tr>\n",
       "    <tr>\n",
       "      <th>male</th>\n",
       "      <td>0.188908</td>\n",
       "    </tr>\n",
       "  </tbody>\n",
       "</table>\n",
       "</div>"
      ],
      "text/plain": [
       "        Survived\n",
       "Sex             \n",
       "female  0.742038\n",
       "male    0.188908"
      ]
     },
     "execution_count": 125,
     "metadata": {},
     "output_type": "execute_result"
    },
    {
     "data": {
      "image/png": "[encoded data removed]",
      "text/plain": [
       "<matplotlib.figure.Figure at 0x10deb7b70>"
      ]
     },
     "metadata": {},
     "output_type": "display_data"
    }
   ],
   "source": [
    "sex_survivor_table = pd.pivot_table(train, index=[\"Sex\"], values=[\"Survived\"])\n",
    "sex_survivor_table.plot(kind=\"barh\")\n",
    "sex_survivor_table\n"
   ]
  },
  {
   "cell_type": "markdown",
   "metadata": {},
   "source": [
    "There's a marked difference in survival rates between men and women. Let's go ahead and enter the competition just using that as our metric."
   ]
  },
  {
   "cell_type": "markdown",
   "metadata": {},
   "source": [
    "We need to output a CSV with the following structure:\n",
    "\n",
    "  - PassengerId\n",
    "  - Survived (as 1(Yes) or 0(No))\n",
    "  \n",
    "Given our assumption, lets mark Females as 1 and Males as 0.\n",
    "\n",
    "Read in `titanic/test.csv` - otherwise your life will suck.\n",
    "\n",
    "Write this to a CSV and upload it to the kaggle competition.\n",
    "\n",
    "<!---\n",
    "test = pd.read_csv(\"titanic/test.csv\")\n",
    "test[\"Survived\"] = 0\n",
    "test.loc[test[\"Sex\"] == \"female\", \"Survived\"] = 1\n",
    "test = test[[\"PassengerId\", \"Survived\"]]\n",
    "test.to_csv(\"titanic/gendermodel.csv\", index=False)\n",
    "test\n",
    "-->"
   ]
  },
  {
   "cell_type": "code",
   "execution_count": 6,
   "metadata": {
    "collapsed": false
   },
   "outputs": [],
   "source": [
    "test = pd.read_csv(\"titanic/test.csv\")\n",
    "test['Survived'] = 0\n",
    "test.loc[test[\"Sex\"] == \"female\", \"Survived\"] = 1\n",
    "test = test[[\"PassengerId\", \"Survived\"]]\n",
    "test.to_csv(\"titanic/gender_set.csv\", index=False)\n"
   ]
  },
  {
   "cell_type": "markdown",
   "metadata": {},
   "source": [
    "Does age seem to matter?"
   ]
  },
  {
   "cell_type": "markdown",
   "metadata": {},
   "source": [
    "What do our survival rates look like when we further aggregate our sex based on their \"Adult Status\" (>= 18 years old)?\n",
    "\n",
    "<!---\n",
    "train[\"AgeRange\"] = train[\"Age\"].map(lambda x: \"adult\" if x >= 18 else \"child\")\n",
    "age_plot = pd.pivot_table(train, index=[\"Sex\", \"AgeRange\"], values=[\"Survived\"])\n",
    "age_plot.plot(kind=\"barh\")\n",
    "plt.axvline(x=0.5, linewidth=2, color='r')\n",
    "age_plot\n",
    "--->"
   ]
  },
  {
   "cell_type": "code",
   "execution_count": 115,
   "metadata": {
    "collapsed": false
   },
   "outputs": [
    {
     "data": {
      "text/html": [
       "<div>\n",
       "<table border=\"1\" class=\"dataframe\">\n",
       "  <thead>\n",
       "    <tr style=\"text-align: right;\">\n",
       "      <th></th>\n",
       "      <th></th>\n",
       "      <th>Survived</th>\n",
       "    </tr>\n",
       "    <tr>\n",
       "      <th>Sex</th>\n",
       "      <th>AgeRange</th>\n",
       "      <th></th>\n",
       "    </tr>\n",
       "  </thead>\n",
       "  <tbody>\n",
       "    <tr>\n",
       "      <th rowspan=\"3\" valign=\"top\">female</th>\n",
       "      <th>adult</th>\n",
       "      <td>0.771845</td>\n",
       "    </tr>\n",
       "    <tr>\n",
       "      <th>child</th>\n",
       "      <td>0.690909</td>\n",
       "    </tr>\n",
       "    <tr>\n",
       "      <th>unknown</th>\n",
       "      <td>0.679245</td>\n",
       "    </tr>\n",
       "    <tr>\n",
       "      <th rowspan=\"3\" valign=\"top\">male</th>\n",
       "      <th>adult</th>\n",
       "      <td>0.177215</td>\n",
       "    </tr>\n",
       "    <tr>\n",
       "      <th>child</th>\n",
       "      <td>0.396552</td>\n",
       "    </tr>\n",
       "    <tr>\n",
       "      <th>unknown</th>\n",
       "      <td>0.129032</td>\n",
       "    </tr>\n",
       "  </tbody>\n",
       "</table>\n",
       "</div>"
      ],
      "text/plain": [
       "                 Survived\n",
       "Sex    AgeRange          \n",
       "female adult     0.771845\n",
       "       child     0.690909\n",
       "       unknown   0.679245\n",
       "male   adult     0.177215\n",
       "       child     0.396552\n",
       "       unknown   0.129032"
      ]
     },
     "execution_count": 115,
     "metadata": {},
     "output_type": "execute_result"
    },
    {
     "data": {
      "image/png": "[encoded data removed]",
      "text/plain": [
       "<matplotlib.figure.Figure at 0x10fb5c1d0>"
      ]
     },
     "metadata": {},
     "output_type": "display_data"
    }
   ],
   "source": [
    "def create_age_range(age):\n",
    "    if str(age) == \"nan\":\n",
    "        return \"unknown\"\n",
    "    elif age >= 18: \n",
    "        return \"adult\" \n",
    "    else:\n",
    "        return \"child\"\n",
    "    \n",
    "train[\"AgeRange\"] = train[\"Age\"].map(create_age_range)\n",
    "\n",
    "\n",
    "age_sex_survivor_table = pd.pivot_table(train, index=[\"Sex\", \"AgeRange\"], values=[\"Survived\"])\n",
    "age_sex_survivor_table.plot(kind=\"barh\")\n",
    "age_sex_survivor_table\n"
   ]
  },
  {
   "cell_type": "markdown",
   "metadata": {},
   "source": [
    "How about passenger class?"
   ]
  },
  {
   "cell_type": "markdown",
   "metadata": {},
   "source": [
    "The `dataFrame` contains a `Pclass` column denoting the passenger class.\n",
    "\n",
    "  - 1: First Class\n",
    "  - 2: Second Class\n",
    "  - 3: Third Class\n",
    "  \n",
    "Add the `Pclass` column to our pivot table and see how this affects our survival rates.\n",
    "\n",
    "<!---\n",
    "passenger_class = pd.pivot_table(train, index=[\"Sex\", \"Pclass\"], values=[\"Survived\"])\n",
    "passenger_class.plot(kind=\"barh\")\n",
    "plt.axvline(x=0.5, linewidth=2, color='r')\n",
    "passenger_class\n",
    "--->"
   ]
  },
  {
   "cell_type": "code",
   "execution_count": 8,
   "metadata": {
    "collapsed": false
   },
   "outputs": [
    {
     "data": {
      "text/html": [
       "<div>\n",
       "<table border=\"1\" class=\"dataframe\">\n",
       "  <thead>\n",
       "    <tr style=\"text-align: right;\">\n",
       "      <th></th>\n",
       "      <th></th>\n",
       "      <th></th>\n",
       "      <th>Survived</th>\n",
       "    </tr>\n",
       "    <tr>\n",
       "      <th>Sex</th>\n",
       "      <th>AgeRange</th>\n",
       "      <th>Pclass</th>\n",
       "      <th></th>\n",
       "    </tr>\n",
       "  </thead>\n",
       "  <tbody>\n",
       "    <tr>\n",
       "      <th rowspan=\"9\" valign=\"top\">female</th>\n",
       "      <th rowspan=\"3\" valign=\"top\">adult</th>\n",
       "      <th>1</th>\n",
       "      <td>0.974026</td>\n",
       "    </tr>\n",
       "    <tr>\n",
       "      <th>2</th>\n",
       "      <td>0.903226</td>\n",
       "    </tr>\n",
       "    <tr>\n",
       "      <th>3</th>\n",
       "      <td>0.417910</td>\n",
       "    </tr>\n",
       "    <tr>\n",
       "      <th rowspan=\"3\" valign=\"top\">child</th>\n",
       "      <th>1</th>\n",
       "      <td>0.875000</td>\n",
       "    </tr>\n",
       "    <tr>\n",
       "      <th>2</th>\n",
       "      <td>1.000000</td>\n",
       "    </tr>\n",
       "    <tr>\n",
       "      <th>3</th>\n",
       "      <td>0.542857</td>\n",
       "    </tr>\n",
       "    <tr>\n",
       "      <th rowspan=\"3\" valign=\"top\">unknown</th>\n",
       "      <th>1</th>\n",
       "      <td>1.000000</td>\n",
       "    </tr>\n",
       "    <tr>\n",
       "      <th>2</th>\n",
       "      <td>1.000000</td>\n",
       "    </tr>\n",
       "    <tr>\n",
       "      <th>3</th>\n",
       "      <td>0.595238</td>\n",
       "    </tr>\n",
       "    <tr>\n",
       "      <th rowspan=\"9\" valign=\"top\">male</th>\n",
       "      <th rowspan=\"3\" valign=\"top\">adult</th>\n",
       "      <th>1</th>\n",
       "      <td>0.371134</td>\n",
       "    </tr>\n",
       "    <tr>\n",
       "      <th>2</th>\n",
       "      <td>0.068182</td>\n",
       "    </tr>\n",
       "    <tr>\n",
       "      <th>3</th>\n",
       "      <td>0.133333</td>\n",
       "    </tr>\n",
       "    <tr>\n",
       "      <th rowspan=\"3\" valign=\"top\">child</th>\n",
       "      <th>1</th>\n",
       "      <td>1.000000</td>\n",
       "    </tr>\n",
       "    <tr>\n",
       "      <th>2</th>\n",
       "      <td>0.818182</td>\n",
       "    </tr>\n",
       "    <tr>\n",
       "      <th>3</th>\n",
       "      <td>0.232558</td>\n",
       "    </tr>\n",
       "    <tr>\n",
       "      <th rowspan=\"3\" valign=\"top\">unknown</th>\n",
       "      <th>1</th>\n",
       "      <td>0.238095</td>\n",
       "    </tr>\n",
       "    <tr>\n",
       "      <th>2</th>\n",
       "      <td>0.222222</td>\n",
       "    </tr>\n",
       "    <tr>\n",
       "      <th>3</th>\n",
       "      <td>0.095745</td>\n",
       "    </tr>\n",
       "  </tbody>\n",
       "</table>\n",
       "</div>"
      ],
      "text/plain": [
       "                        Survived\n",
       "Sex    AgeRange Pclass          \n",
       "female adult    1       0.974026\n",
       "                2       0.903226\n",
       "                3       0.417910\n",
       "       child    1       0.875000\n",
       "                2       1.000000\n",
       "                3       0.542857\n",
       "       unknown  1       1.000000\n",
       "                2       1.000000\n",
       "                3       0.595238\n",
       "male   adult    1       0.371134\n",
       "                2       0.068182\n",
       "                3       0.133333\n",
       "       child    1       1.000000\n",
       "                2       0.818182\n",
       "                3       0.232558\n",
       "       unknown  1       0.238095\n",
       "                2       0.222222\n",
       "                3       0.095745"
      ]
     },
     "execution_count": 8,
     "metadata": {},
     "output_type": "execute_result"
    },
    {
     "data": {
      "image/png": "[encoded data removed]",
      "text/plain": [
       "<matplotlib.figure.Figure at 0x10959cc18>"
      ]
     },
     "metadata": {},
     "output_type": "display_data"
    }
   ],
   "source": [
    "pclass_survivor_table = pd.pivot_table(train, index=[\"Sex\", \"AgeRange\", \"Pclass\"], values=[\"Survived\"])\n",
    "pclass_survivor_table.plot(kind=\"barh\")\n",
    "pclass_survivor_table"
   ]
  },
  {
   "cell_type": "markdown",
   "metadata": {},
   "source": [
    "Passenger class definitely mattered. The survival rate for women in 3rd class is under 50%.\n",
    "\n",
    "What if we added in the price of the ticket? This will work best with discrete values, so we break it into tickets less than \\$10, tickets between \\$10 and \\$20, tickets between \\$20 and \\$30, and tickets over \\$30."
   ]
  },
  {
   "cell_type": "markdown",
   "metadata": {},
   "source": [
    "Recalculate our `TicketPrice` column to be less exact but contain price ranges.  Include our new range in our pivot table and see how this further aggregation affects our result.\n",
    "\n",
    "<!---\n",
    "def ticket_price(fare):\n",
    "    if fare < 10:\n",
    "        return \"< $10\"\n",
    "    elif fare < 20:\n",
    "        return \"$10-20\"\n",
    "    elif fare < 30:\n",
    "        return \"$20-30\"\n",
    "    else:\n",
    "        return \"> $30\"\n",
    "    \n",
    "train[\"TicketPrice\"] = train[\"Fare\"].map(ticket_price)\n",
    "ticket_price = pd.pivot_table(train, index=[\"Sex\", \"Pclass\", \"TicketPrice\"], values=[\"Survived\"])\n",
    "ticket_price.plot(kind=\"barh\")\n",
    "plt.axvline(x=0.5, linewidth=2, color='r')\n",
    "ticket_price\n",
    "--->"
   ]
  },
  {
   "cell_type": "code",
   "execution_count": 116,
   "metadata": {
    "collapsed": false
   },
   "outputs": [
    {
     "data": {
      "text/html": [
       "<div>\n",
       "<table border=\"1\" class=\"dataframe\">\n",
       "  <thead>\n",
       "    <tr style=\"text-align: right;\">\n",
       "      <th></th>\n",
       "      <th></th>\n",
       "      <th></th>\n",
       "      <th></th>\n",
       "      <th>Survived</th>\n",
       "    </tr>\n",
       "    <tr>\n",
       "      <th>Sex</th>\n",
       "      <th>AgeRange</th>\n",
       "      <th>Pclass</th>\n",
       "      <th>TicketPrice</th>\n",
       "      <th></th>\n",
       "    </tr>\n",
       "  </thead>\n",
       "  <tbody>\n",
       "    <tr>\n",
       "      <th rowspan=\"5\" valign=\"top\">female</th>\n",
       "      <th rowspan=\"5\" valign=\"top\">adult</th>\n",
       "      <th rowspan=\"3\" valign=\"top\">1</th>\n",
       "      <th>$20-30</th>\n",
       "      <td>0.833333</td>\n",
       "    </tr>\n",
       "    <tr>\n",
       "      <th>$30-40</th>\n",
       "      <td>1.000000</td>\n",
       "    </tr>\n",
       "    <tr>\n",
       "      <th>&gt; $40</th>\n",
       "      <td>0.985294</td>\n",
       "    </tr>\n",
       "    <tr>\n",
       "      <th rowspan=\"2\" valign=\"top\">2</th>\n",
       "      <th>$10-20</th>\n",
       "      <td>0.903226</td>\n",
       "    </tr>\n",
       "    <tr>\n",
       "      <th>$20-30</th>\n",
       "      <td>0.880000</td>\n",
       "    </tr>\n",
       "  </tbody>\n",
       "</table>\n",
       "</div>"
      ],
      "text/plain": [
       "                                    Survived\n",
       "Sex    AgeRange Pclass TicketPrice          \n",
       "female adult    1      $20-30       0.833333\n",
       "                       $30-40       1.000000\n",
       "                       > $40        0.985294\n",
       "                2      $10-20       0.903226\n",
       "                       $20-30       0.880000"
      ]
     },
     "execution_count": 116,
     "metadata": {},
     "output_type": "execute_result"
    },
    {
     "data": {
      "image/png": "[encoded data removed]",
      "text/plain": [
       "<matplotlib.figure.Figure at 0x10fad3f98>"
      ]
     },
     "metadata": {},
     "output_type": "display_data"
    }
   ],
   "source": [
    "def ticket_price(fare):\n",
    "    if fare < 5:\n",
    "        return \"< $5\"\n",
    "    elif fare < 10:\n",
    "        return \"$5-10\"\n",
    "    elif fare < 20:\n",
    "        return \"$10-20\"\n",
    "    elif fare < 30:\n",
    "        return \"$20-30\"\n",
    "    elif fare < 40:\n",
    "        return \"$30-40\"\n",
    "    else:\n",
    "        return \"> $40\"\n",
    "    \n",
    "train[\"TicketPrice\"] = train[\"Fare\"].apply(ticket_price)\n",
    "price_survivor_table = pd.pivot_table(train, index=[\"Sex\", \"AgeRange\", \"Pclass\", \"TicketPrice\"], values=[\"Survived\"])\n",
    "price_survivor_table.plot(kind=\"barh\", figsize=(10, 10))\n",
    "plt.axvline(x=0.5, linewidth=2, color='r')\n",
    "price_survivor_table.head()"
   ]
  },
  {
   "cell_type": "markdown",
   "metadata": {},
   "source": [
    "Ok, this is now meaningful. The groups with survival rate > 50% are:\n",
    "\n",
    "* Women in 1st and 2nd class.\n",
    "* Women in 3rd class that paid $20 or less."
   ]
  },
  {
   "cell_type": "markdown",
   "metadata": {},
   "source": [
    "So with our new mark a passenger as Survived or not based on the above criteria.\n",
    "\n",
    "<!---\n",
    "test = pd.read_csv(\"titanic/test.csv\")\n",
    "\n",
    "test[\"Survived\"] = 0\n",
    "test.loc[test[\"Sex\"] == \"female\", \"Survived\"] = 1\n",
    "test.loc[(test[\"Pclass\"] == 3) & (test[\"Fare\"] > 20), \"Survived\"] = 0\n",
    "test = test[[\"PassengerId\", \"Survived\"]]\n",
    "test.to_csv(\"titanic/genderclassmodel.csv\", index=False)\n",
    "test\n",
    "--->"
   ]
  },
  {
   "cell_type": "code",
   "execution_count": 109,
   "metadata": {
    "collapsed": false
   },
   "outputs": [],
   "source": [
    "test = pd.read_csv(\"titanic/test.csv\")\n",
    "test['Survived'] = 0\n",
    "\n",
    "test.loc[(test[\"Sex\"] == \"female\"), \"Survived\"] = 1\n",
    "test.loc[(test[\"Sex\"] == \"female\") & (test[\"Fare\"] > 20) & (test[\"Pclass\"] == 3), \"Survived\"] = 0\n",
    "test = test[[\"PassengerId\", \"Survived\"]]\n",
    "test.to_csv(\"titanic/gender_age_set.csv\", index=False)\n"
   ]
  },
  {
   "cell_type": "code",
   "execution_count": 123,
   "metadata": {
    "collapsed": false
   },
   "outputs": [],
   "source": [
    "test2 = pd.read_csv(\"titanic/test.csv\")\n",
    "test2['Survived'] = 0\n",
    "\n",
    "test2.loc[(test2[\"Sex\"] == \"female\"), \"Survived\"] = 1\n",
    "test2.loc[(test2[\"Sex\"] == \"female\") & (test2[\"Fare\"] > 20) & (test2[\"Pclass\"] == 3), \"Survived\"] = 0\n",
    "test2.loc[(test2[\"Sex\"] == \"male\") & (test2[\"Pclass\"] <= 2) & (test2[\"Age\"] < 18), \"Survived\"] = 1\n",
    "test2 = test2[[\"PassengerId\", \"Survived\"]]\n",
    "test2.to_csv(\"titanic/gender_age_class_set.csv\", index=False)"
   ]
  },
  {
   "cell_type": "markdown",
   "metadata": {},
   "source": [
    "This one above has been the best so far, at 78%."
   ]
  },
  {
   "cell_type": "code",
   "execution_count": 107,
   "metadata": {
    "collapsed": true
   },
   "outputs": [],
   "source": [
    "test4 = pd.read_csv(\"titanic/test.csv\")\n",
    "test4['Survived'] = 0\n",
    "\n",
    "test4.loc[(test4[\"Sex\"] == \"female\"), \"Survived\"] = 1\n",
    "test4.loc[(test4[\"Sex\"] == \"female\") & (test4[\"Age\"] >= 18) & (test4[\"Pclass\"] == 3), \"Survived\"] = 0\n",
    "test4.loc[(test4[\"Sex\"] == \"male\") & (test4[\"Pclass\"] <= 2) & (test4[\"Age\"] < 18), \"Survived\"] = 1\n",
    "test4 = test4[[\"PassengerId\", \"Survived\"]]\n",
    "test4.to_csv(\"titanic/gender_age_class_set2.csv\", index=False)"
   ]
  },
  {
   "cell_type": "markdown",
   "metadata": {},
   "source": [
    "This wasn't as good as the one above."
   ]
  },
  {
   "cell_type": "code",
   "execution_count": 117,
   "metadata": {
    "collapsed": true
   },
   "outputs": [],
   "source": [
    "test5 = pd.read_csv(\"titanic/test.csv\")\n",
    "test5['Survived'] = 0\n",
    "\n",
    "test5.loc[(test5[\"Sex\"] == \"female\"), \"Survived\"] = 1\n",
    "test5.loc[(test5[\"Sex\"] == \"female\") & (test5[\"Fare\"] > 20) & (test5[\"Pclass\"] == 3), \"Survived\"] = 0\n",
    "test5.loc[(test5[\"Sex\"] == \"male\") & (test5[\"Pclass\"] <= 2) & (test5[\"Age\"] < 18), \"Survived\"] = 1\n",
    "test5.loc[(test5[\"Sex\"] == \"male\") & (test5[\"Pclass\"] == 3) & (test5[\"Fare\"] > 40), \"Survived\"] = 1\n",
    "test5 = test5[[\"PassengerId\", \"Survived\"]]\n",
    "test5.to_csv(\"titanic/gender_age_class_set3.csv\", index=False)"
   ]
  },
  {
   "cell_type": "markdown",
   "metadata": {},
   "source": [
    "Not as good as above."
   ]
  },
  {
   "cell_type": "code",
   "execution_count": 120,
   "metadata": {
    "collapsed": true
   },
   "outputs": [],
   "source": [
    "test6 = pd.read_csv(\"titanic/test.csv\")\n",
    "test6['Survived'] = 0\n",
    "\n",
    "test6.loc[(test6[\"Sex\"] == \"female\"), \"Survived\"] = 1\n",
    "test6.loc[(test6[\"Sex\"] == \"female\") & (test6[\"Fare\"] > 20) & (test6[\"Pclass\"] == 3), \"Survived\"] = 0\n",
    "test6.loc[(test6[\"Sex\"] == \"male\") & (test6[\"Pclass\"] <= 2) & (test6[\"Age\"] < 18), \"Survived\"] = 1\n",
    "test6.loc[(test6[\"Sex\"] == \"female\") & (test6[\"Age\"] > 18) & (test6[\"Pclass\"] == 3), \"Survived\"] = 0\n",
    "test6 = test6[[\"PassengerId\", \"Survived\"]]\n",
    "test6.to_csv(\"titanic/gender_age_class_set6.csv\", index=False)"
   ]
  },
  {
   "cell_type": "markdown",
   "metadata": {},
   "source": [
    "## Cleaning data\n",
    "\n",
    "To do any better than this, we'll need to clean up our data. We'll need everything to be numerical so we can use them as real features.\n",
    "\n",
    "Let's turn all the strings we might use into numbers.\n",
    "\n",
    "<!---\n",
    "train['Gender'] = train['Sex'].map( {'female': 0, 'male': 1} ).astype(int)\n",
    "--->"
   ]
  },
  {
   "cell_type": "code",
   "execution_count": null,
   "metadata": {
    "collapsed": false
   },
   "outputs": [],
   "source": []
  },
  {
   "cell_type": "markdown",
   "metadata": {},
   "source": [
    "Get the median age of passengers by sex and class, for filling in missing ages.\n",
    "\n",
    "Given 2 sexes and 3 classes each, calculate each median age for each category.\n",
    "\n",
    "<!---\n",
    "median_ages = np.zeros((2,3))\n",
    "\n",
    "for i in range(0, 2):\n",
    "    for j in range(0, 3):\n",
    "        median_ages[i,j] = train[(train['Gender'] == i) & \\\n",
    "                                 (train['Pclass'] == j+1)]['Age'].dropna().median()\n",
    "\n",
    "median_ages\n",
    "--->"
   ]
  },
  {
   "cell_type": "code",
   "execution_count": null,
   "metadata": {
    "collapsed": false
   },
   "outputs": [],
   "source": []
  },
  {
   "cell_type": "markdown",
   "metadata": {},
   "source": [
    "Calculate the median age for each sex/class permutation as well.\n",
    "\n",
    "Find each missing age and set it's age to the appropriate median age.\n",
    "\n",
    "<!---\n",
    "for i in range(0, 2):\n",
    "    for j in range(0, 3):\n",
    "        train.loc[(train.Age.isnull()) & (train.Gender == i) & (train.Pclass == j+1),\\\n",
    "                'AgeFill'] = median_ages[i,j]\n",
    "\n",
    "train[train['Age'].isnull()][['Gender','Pclass','Age','AgeFill']].head()\n",
    "--->"
   ]
  },
  {
   "cell_type": "code",
   "execution_count": null,
   "metadata": {
    "collapsed": false
   },
   "outputs": [],
   "source": []
  },
  {
   "cell_type": "markdown",
   "metadata": {},
   "source": [
    "Create a new column `AgeIsNull` and store an integer representing a Boolean as it's value.\n",
    "\n",
    "<!---\n",
    "train['AgeIsNull'] = pd.isnull(train.Age).astype(int)\n",
    "--->"
   ]
  },
  {
   "cell_type": "code",
   "execution_count": null,
   "metadata": {
    "collapsed": false
   },
   "outputs": [],
   "source": []
  },
  {
   "cell_type": "code",
   "execution_count": 126,
   "metadata": {
    "collapsed": false
   },
   "outputs": [],
   "source": [
    "# Helper Functions - provided for brevity\n",
    "\n",
    "def calc_median_ages(df):\n",
    "    median_ages = np.zeros((2,3))\n",
    "    \n",
    "    # find median age for each combination of Gender and Pclass\n",
    "    \n",
    "    for i in range(0, 2):\n",
    "        for j in range(0, 3):\n",
    "            median_ages[i,j] = df[(df['Gender'] == i) & \\\n",
    "                                  (df['Pclass'] == j+1)]['Age'].dropna().median()\n",
    "            \n",
    "    return median_ages\n",
    "\n",
    "\n",
    "def guess_ages(df, median_ages=None):\n",
    "    if median_ages is None:\n",
    "        median_ages = calc_median_ages(df)\n",
    "    df['GuessedAge'] = pd.isnull(df.Age).astype(int)\n",
    "    # Get each combination of Gender and Pclass that is null and set it's \n",
    "    # `Age` to the median age associated with it's Gender and Pclass\n",
    "    for i in range(0, 2):\n",
    "        for j in range(0, 3):\n",
    "            df.loc[(df.Age.isnull()) & (df.Gender == i) & (df.Pclass == j+1),\\\n",
    "                    'Age'] = median_ages[i,j]\n",
    "    return df\n",
    "\n",
    "def clean(df, median_ages=None):\n",
    "    df['Gender'] = df['Sex'].map( {'female': 0, 'male': 1} ).astype(int)\n",
    "    df = guess_ages(df, median_ages)\n",
    "    df['Port'] = df['Embarked'].map( {'S': 1, 'C': 3, 'Q': 2} )\n",
    "    df['FamSize'] = df['SibSp'] + df['Parch']\n",
    "    df = df.drop(['Ticket', 'Cabin', 'Sex', 'Embarked'], axis=1)\n",
    "    \n",
    "    return df"
   ]
  },
  {
   "cell_type": "markdown",
   "metadata": {},
   "source": [
    "Read in the CSV again, clean the `dataFrame` and see the `.info()` on it."
   ]
  },
  {
   "cell_type": "code",
   "execution_count": 184,
   "metadata": {
    "collapsed": false
   },
   "outputs": [
    {
     "data": {
      "text/html": [
       "<div>\n",
       "<table border=\"1\" class=\"dataframe\">\n",
       "  <thead>\n",
       "    <tr style=\"text-align: right;\">\n",
       "      <th></th>\n",
       "      <th>PassengerId</th>\n",
       "      <th>Survived</th>\n",
       "      <th>Pclass</th>\n",
       "      <th>Name</th>\n",
       "      <th>Age</th>\n",
       "      <th>SibSp</th>\n",
       "      <th>Parch</th>\n",
       "      <th>Fare</th>\n",
       "      <th>Gender</th>\n",
       "      <th>GuessedAge</th>\n",
       "      <th>Port</th>\n",
       "      <th>FamSize</th>\n",
       "    </tr>\n",
       "  </thead>\n",
       "  <tbody>\n",
       "    <tr>\n",
       "      <th>0</th>\n",
       "      <td>1</td>\n",
       "      <td>0</td>\n",
       "      <td>3</td>\n",
       "      <td>Braund, Mr. Owen Harris</td>\n",
       "      <td>22</td>\n",
       "      <td>1</td>\n",
       "      <td>0</td>\n",
       "      <td>7.2500</td>\n",
       "      <td>1</td>\n",
       "      <td>0</td>\n",
       "      <td>1</td>\n",
       "      <td>1</td>\n",
       "    </tr>\n",
       "    <tr>\n",
       "      <th>1</th>\n",
       "      <td>2</td>\n",
       "      <td>1</td>\n",
       "      <td>1</td>\n",
       "      <td>Cumings, Mrs. John Bradley (Florence Briggs Th...</td>\n",
       "      <td>38</td>\n",
       "      <td>1</td>\n",
       "      <td>0</td>\n",
       "      <td>71.2833</td>\n",
       "      <td>0</td>\n",
       "      <td>0</td>\n",
       "      <td>3</td>\n",
       "      <td>1</td>\n",
       "    </tr>\n",
       "    <tr>\n",
       "      <th>2</th>\n",
       "      <td>3</td>\n",
       "      <td>1</td>\n",
       "      <td>3</td>\n",
       "      <td>Heikkinen, Miss. Laina</td>\n",
       "      <td>26</td>\n",
       "      <td>0</td>\n",
       "      <td>0</td>\n",
       "      <td>7.9250</td>\n",
       "      <td>0</td>\n",
       "      <td>0</td>\n",
       "      <td>1</td>\n",
       "      <td>0</td>\n",
       "    </tr>\n",
       "    <tr>\n",
       "      <th>3</th>\n",
       "      <td>4</td>\n",
       "      <td>1</td>\n",
       "      <td>1</td>\n",
       "      <td>Futrelle, Mrs. Jacques Heath (Lily May Peel)</td>\n",
       "      <td>35</td>\n",
       "      <td>1</td>\n",
       "      <td>0</td>\n",
       "      <td>53.1000</td>\n",
       "      <td>0</td>\n",
       "      <td>0</td>\n",
       "      <td>1</td>\n",
       "      <td>1</td>\n",
       "    </tr>\n",
       "    <tr>\n",
       "      <th>4</th>\n",
       "      <td>5</td>\n",
       "      <td>0</td>\n",
       "      <td>3</td>\n",
       "      <td>Allen, Mr. William Henry</td>\n",
       "      <td>35</td>\n",
       "      <td>0</td>\n",
       "      <td>0</td>\n",
       "      <td>8.0500</td>\n",
       "      <td>1</td>\n",
       "      <td>0</td>\n",
       "      <td>1</td>\n",
       "      <td>0</td>\n",
       "    </tr>\n",
       "    <tr>\n",
       "      <th>5</th>\n",
       "      <td>6</td>\n",
       "      <td>0</td>\n",
       "      <td>3</td>\n",
       "      <td>Moran, Mr. James</td>\n",
       "      <td>25</td>\n",
       "      <td>0</td>\n",
       "      <td>0</td>\n",
       "      <td>8.4583</td>\n",
       "      <td>1</td>\n",
       "      <td>1</td>\n",
       "      <td>2</td>\n",
       "      <td>0</td>\n",
       "    </tr>\n",
       "    <tr>\n",
       "      <th>6</th>\n",
       "      <td>7</td>\n",
       "      <td>0</td>\n",
       "      <td>1</td>\n",
       "      <td>McCarthy, Mr. Timothy J</td>\n",
       "      <td>54</td>\n",
       "      <td>0</td>\n",
       "      <td>0</td>\n",
       "      <td>51.8625</td>\n",
       "      <td>1</td>\n",
       "      <td>0</td>\n",
       "      <td>1</td>\n",
       "      <td>0</td>\n",
       "    </tr>\n",
       "    <tr>\n",
       "      <th>7</th>\n",
       "      <td>8</td>\n",
       "      <td>0</td>\n",
       "      <td>3</td>\n",
       "      <td>Palsson, Master. Gosta Leonard</td>\n",
       "      <td>2</td>\n",
       "      <td>3</td>\n",
       "      <td>1</td>\n",
       "      <td>21.0750</td>\n",
       "      <td>1</td>\n",
       "      <td>0</td>\n",
       "      <td>1</td>\n",
       "      <td>4</td>\n",
       "    </tr>\n",
       "    <tr>\n",
       "      <th>8</th>\n",
       "      <td>9</td>\n",
       "      <td>1</td>\n",
       "      <td>3</td>\n",
       "      <td>Johnson, Mrs. Oscar W (Elisabeth Vilhelmina Berg)</td>\n",
       "      <td>27</td>\n",
       "      <td>0</td>\n",
       "      <td>2</td>\n",
       "      <td>11.1333</td>\n",
       "      <td>0</td>\n",
       "      <td>0</td>\n",
       "      <td>1</td>\n",
       "      <td>2</td>\n",
       "    </tr>\n",
       "    <tr>\n",
       "      <th>9</th>\n",
       "      <td>10</td>\n",
       "      <td>1</td>\n",
       "      <td>2</td>\n",
       "      <td>Nasser, Mrs. Nicholas (Adele Achem)</td>\n",
       "      <td>14</td>\n",
       "      <td>1</td>\n",
       "      <td>0</td>\n",
       "      <td>30.0708</td>\n",
       "      <td>0</td>\n",
       "      <td>0</td>\n",
       "      <td>3</td>\n",
       "      <td>1</td>\n",
       "    </tr>\n",
       "  </tbody>\n",
       "</table>\n",
       "</div>"
      ],
      "text/plain": [
       "   PassengerId  Survived  Pclass  \\\n",
       "0            1         0       3   \n",
       "1            2         1       1   \n",
       "2            3         1       3   \n",
       "3            4         1       1   \n",
       "4            5         0       3   \n",
       "5            6         0       3   \n",
       "6            7         0       1   \n",
       "7            8         0       3   \n",
       "8            9         1       3   \n",
       "9           10         1       2   \n",
       "\n",
       "                                                Name  Age  SibSp  Parch  \\\n",
       "0                            Braund, Mr. Owen Harris   22      1      0   \n",
       "1  Cumings, Mrs. John Bradley (Florence Briggs Th...   38      1      0   \n",
       "2                             Heikkinen, Miss. Laina   26      0      0   \n",
       "3       Futrelle, Mrs. Jacques Heath (Lily May Peel)   35      1      0   \n",
       "4                           Allen, Mr. William Henry   35      0      0   \n",
       "5                                   Moran, Mr. James   25      0      0   \n",
       "6                            McCarthy, Mr. Timothy J   54      0      0   \n",
       "7                     Palsson, Master. Gosta Leonard    2      3      1   \n",
       "8  Johnson, Mrs. Oscar W (Elisabeth Vilhelmina Berg)   27      0      2   \n",
       "9                Nasser, Mrs. Nicholas (Adele Achem)   14      1      0   \n",
       "\n",
       "      Fare  Gender  GuessedAge  Port  FamSize  \n",
       "0   7.2500       1           0     1        1  \n",
       "1  71.2833       0           0     3        1  \n",
       "2   7.9250       0           0     1        0  \n",
       "3  53.1000       0           0     1        1  \n",
       "4   8.0500       1           0     1        0  \n",
       "5   8.4583       1           1     2        0  \n",
       "6  51.8625       1           0     1        0  \n",
       "7  21.0750       1           0     1        4  \n",
       "8  11.1333       0           0     1        2  \n",
       "9  30.0708       0           0     3        1  "
      ]
     },
     "execution_count": 184,
     "metadata": {},
     "output_type": "execute_result"
    }
   ],
   "source": [
    "train2 = pd.read_csv(\"titanic/train.csv\")\n",
    "train2_clean = clean(train2)\n",
    "train2_clean.head(10)"
   ]
  },
  {
   "cell_type": "code",
   "execution_count": 179,
   "metadata": {
    "collapsed": false
   },
   "outputs": [
    {
     "data": {
      "text/plain": [
       "<matplotlib.axes._subplots.AxesSubplot at 0x10e044390>"
      ]
     },
     "execution_count": 179,
     "metadata": {},
     "output_type": "execute_result"
    },
    {
     "data": {
      "image/png": "[encoded data removed]",
      "text/plain": [
       "<matplotlib.figure.Figure at 0x10e0a7a20>"
      ]
     },
     "metadata": {},
     "output_type": "display_data"
    }
   ],
   "source": [
    "train2[\"Age\"].dropna().hist(bins=10, range=(0, 100))"
   ]
  },
  {
   "cell_type": "code",
   "execution_count": 185,
   "metadata": {
    "collapsed": true
   },
   "outputs": [],
   "source": [
    "train2[\"AgeRange\"] = train2[\"Age\"].map(create_age_range)"
   ]
  },
  {
   "cell_type": "code",
   "execution_count": 181,
   "metadata": {
    "collapsed": false
   },
   "outputs": [
    {
     "data": {
      "text/html": [
       "<div>\n",
       "<table border=\"1\" class=\"dataframe\">\n",
       "  <thead>\n",
       "    <tr style=\"text-align: right;\">\n",
       "      <th></th>\n",
       "      <th></th>\n",
       "      <th></th>\n",
       "      <th></th>\n",
       "      <th>Survived</th>\n",
       "    </tr>\n",
       "    <tr>\n",
       "      <th>Gender</th>\n",
       "      <th>AgeRange</th>\n",
       "      <th>Pclass</th>\n",
       "      <th>Port</th>\n",
       "      <th></th>\n",
       "    </tr>\n",
       "  </thead>\n",
       "  <tbody>\n",
       "    <tr>\n",
       "      <th rowspan=\"16\" valign=\"top\">0</th>\n",
       "      <th rowspan=\"9\" valign=\"top\">adult</th>\n",
       "      <th rowspan=\"3\" valign=\"top\">1</th>\n",
       "      <th>1</th>\n",
       "      <td>0.976190</td>\n",
       "    </tr>\n",
       "    <tr>\n",
       "      <th>2</th>\n",
       "      <td>1.000000</td>\n",
       "    </tr>\n",
       "    <tr>\n",
       "      <th>3</th>\n",
       "      <td>0.975610</td>\n",
       "    </tr>\n",
       "    <tr>\n",
       "      <th rowspan=\"3\" valign=\"top\">2</th>\n",
       "      <th>1</th>\n",
       "      <td>0.896552</td>\n",
       "    </tr>\n",
       "    <tr>\n",
       "      <th>2</th>\n",
       "      <td>1.000000</td>\n",
       "    </tr>\n",
       "    <tr>\n",
       "      <th>3</th>\n",
       "      <td>1.000000</td>\n",
       "    </tr>\n",
       "    <tr>\n",
       "      <th rowspan=\"3\" valign=\"top\">3</th>\n",
       "      <th>1</th>\n",
       "      <td>0.382353</td>\n",
       "    </tr>\n",
       "    <tr>\n",
       "      <th>2</th>\n",
       "      <td>0.700000</td>\n",
       "    </tr>\n",
       "    <tr>\n",
       "      <th>3</th>\n",
       "      <td>0.545455</td>\n",
       "    </tr>\n",
       "    <tr>\n",
       "      <th rowspan=\"7\" valign=\"top\">child</th>\n",
       "      <th rowspan=\"2\" valign=\"top\">1</th>\n",
       "      <th>1</th>\n",
       "      <td>0.833333</td>\n",
       "    </tr>\n",
       "    <tr>\n",
       "      <th>3</th>\n",
       "      <td>1.000000</td>\n",
       "    </tr>\n",
       "    <tr>\n",
       "      <th rowspan=\"2\" valign=\"top\">2</th>\n",
       "      <th>1</th>\n",
       "      <td>1.000000</td>\n",
       "    </tr>\n",
       "    <tr>\n",
       "      <th>3</th>\n",
       "      <td>1.000000</td>\n",
       "    </tr>\n",
       "    <tr>\n",
       "      <th rowspan=\"3\" valign=\"top\">3</th>\n",
       "      <th>1</th>\n",
       "      <td>0.350000</td>\n",
       "    </tr>\n",
       "    <tr>\n",
       "      <th>2</th>\n",
       "      <td>1.000000</td>\n",
       "    </tr>\n",
       "    <tr>\n",
       "      <th>3</th>\n",
       "      <td>0.750000</td>\n",
       "    </tr>\n",
       "    <tr>\n",
       "      <th rowspan=\"16\" valign=\"top\">1</th>\n",
       "      <th rowspan=\"9\" valign=\"top\">adult</th>\n",
       "      <th rowspan=\"3\" valign=\"top\">1</th>\n",
       "      <th>1</th>\n",
       "      <td>0.328947</td>\n",
       "    </tr>\n",
       "    <tr>\n",
       "      <th>2</th>\n",
       "      <td>0.000000</td>\n",
       "    </tr>\n",
       "    <tr>\n",
       "      <th>3</th>\n",
       "      <td>0.390244</td>\n",
       "    </tr>\n",
       "    <tr>\n",
       "      <th rowspan=\"3\" valign=\"top\">2</th>\n",
       "      <th>1</th>\n",
       "      <td>0.080460</td>\n",
       "    </tr>\n",
       "    <tr>\n",
       "      <th>2</th>\n",
       "      <td>0.000000</td>\n",
       "    </tr>\n",
       "    <tr>\n",
       "      <th>3</th>\n",
       "      <td>0.111111</td>\n",
       "    </tr>\n",
       "    <tr>\n",
       "      <th rowspan=\"3\" valign=\"top\">3</th>\n",
       "      <th>1</th>\n",
       "      <td>0.112554</td>\n",
       "    </tr>\n",
       "    <tr>\n",
       "      <th>2</th>\n",
       "      <td>0.085714</td>\n",
       "    </tr>\n",
       "    <tr>\n",
       "      <th>3</th>\n",
       "      <td>0.210526</td>\n",
       "    </tr>\n",
       "    <tr>\n",
       "      <th rowspan=\"7\" valign=\"top\">child</th>\n",
       "      <th rowspan=\"2\" valign=\"top\">1</th>\n",
       "      <th>1</th>\n",
       "      <td>1.000000</td>\n",
       "    </tr>\n",
       "    <tr>\n",
       "      <th>3</th>\n",
       "      <td>1.000000</td>\n",
       "    </tr>\n",
       "    <tr>\n",
       "      <th rowspan=\"2\" valign=\"top\">2</th>\n",
       "      <th>1</th>\n",
       "      <td>0.800000</td>\n",
       "    </tr>\n",
       "    <tr>\n",
       "      <th>3</th>\n",
       "      <td>1.000000</td>\n",
       "    </tr>\n",
       "    <tr>\n",
       "      <th rowspan=\"3\" valign=\"top\">3</th>\n",
       "      <th>1</th>\n",
       "      <td>0.235294</td>\n",
       "    </tr>\n",
       "    <tr>\n",
       "      <th>2</th>\n",
       "      <td>0.000000</td>\n",
       "    </tr>\n",
       "    <tr>\n",
       "      <th>3</th>\n",
       "      <td>0.400000</td>\n",
       "    </tr>\n",
       "  </tbody>\n",
       "</table>\n",
       "</div>"
      ],
      "text/plain": [
       "                             Survived\n",
       "Gender AgeRange Pclass Port          \n",
       "0      adult    1      1     0.976190\n",
       "                       2     1.000000\n",
       "                       3     0.975610\n",
       "                2      1     0.896552\n",
       "                       2     1.000000\n",
       "                       3     1.000000\n",
       "                3      1     0.382353\n",
       "                       2     0.700000\n",
       "                       3     0.545455\n",
       "       child    1      1     0.833333\n",
       "                       3     1.000000\n",
       "                2      1     1.000000\n",
       "                       3     1.000000\n",
       "                3      1     0.350000\n",
       "                       2     1.000000\n",
       "                       3     0.750000\n",
       "1      adult    1      1     0.328947\n",
       "                       2     0.000000\n",
       "                       3     0.390244\n",
       "                2      1     0.080460\n",
       "                       2     0.000000\n",
       "                       3     0.111111\n",
       "                3      1     0.112554\n",
       "                       2     0.085714\n",
       "                       3     0.210526\n",
       "       child    1      1     1.000000\n",
       "                       3     1.000000\n",
       "                2      1     0.800000\n",
       "                       3     1.000000\n",
       "                3      1     0.235294\n",
       "                       2     0.000000\n",
       "                       3     0.400000"
      ]
     },
     "execution_count": 181,
     "metadata": {},
     "output_type": "execute_result"
    },
    {
     "data": {
      "image/png": "[encoded data removed]",
      "text/plain": [
       "<matplotlib.figure.Figure at 0x10fcb0cc0>"
      ]
     },
     "metadata": {},
     "output_type": "display_data"
    }
   ],
   "source": [
    "train2_table = pd.pivot_table(train2, index=[\"Gender\", \"AgeRange\", \"Pclass\",\"Port\"], values=[\"Survived\"])\n",
    "train2_table.plot(kind=\"barh\")\n",
    "train2_table"
   ]
  },
  {
   "cell_type": "markdown",
   "metadata": {},
   "source": [
    "We might want to get the port the passenger embarked from as a number. Do this as an exercise.\n",
    "\n",
    "We also might want to use regular expressions on the names to look for titles like \"Dr\" and \"Rev\".\n",
    "\n",
    "We may want to add new features, like total family size."
   ]
  },
  {
   "cell_type": "code",
   "execution_count": 101,
   "metadata": {
    "collapsed": true
   },
   "outputs": [],
   "source": [
    "test3 = pd.read_csv(\"titanic/test.csv\")\n",
    "test3['Survived'] = 0\n",
    "test3['FamSize'] = test3['SibSp'] + test3['Parch']\n",
    "test3.loc[(test3[\"Sex\"] == \"female\"), \"Survived\"] = 1\n",
    "test3.loc[(test3[\"Sex\"] == \"female\") & (test3[\"Fare\"] > 20) & (test3[\"Pclass\"] == 3), \"Survived\"] = 0\n",
    "test3.loc[(test3[\"Sex\"] == \"male\") & (test3[\"Pclass\"] <= 2) & (test3[\"Age\"] < 18), \"Survived\"] = 1\n",
    "test3.loc[(test3[\"FamSize\"] >= 5), \"Survived\"] = 0\n",
    "test3 = test3[[\"PassengerId\", \"Survived\"]]\n",
    "test3.to_csv(\"titanic/gender_age_class_famsize_set.csv\", index=False)"
   ]
  },
  {
   "cell_type": "markdown",
   "metadata": {},
   "source": [
    "This is actually worse than the previous one, so family size doesn't help."
   ]
  },
  {
   "cell_type": "code",
   "execution_count": 49,
   "metadata": {
    "collapsed": false
   },
   "outputs": [
    {
     "name": "stdout",
     "output_type": "stream",
     "text": [
      "<class 'pandas.core.frame.DataFrame'>\n",
      "Int64Index: 418 entries, 0 to 417\n",
      "Data columns (total 11 columns):\n",
      "PassengerId    418 non-null int64\n",
      "Pclass         418 non-null int64\n",
      "Name           418 non-null object\n",
      "Sex            418 non-null object\n",
      "Age            332 non-null float64\n",
      "SibSp          418 non-null int64\n",
      "Parch          418 non-null int64\n",
      "Ticket         418 non-null object\n",
      "Fare           417 non-null float64\n",
      "Cabin          91 non-null object\n",
      "Embarked       418 non-null object\n",
      "dtypes: float64(2), int64(4), object(5)\n",
      "memory usage: 39.2+ KB\n"
     ]
    }
   ],
   "source": [
    "median_ages = calc_median_ages(train)\n",
    "test = pd.read_csv(\"titanic/test.csv\")\n",
    "test.info()"
   ]
  },
  {
   "cell_type": "code",
   "execution_count": 217,
   "metadata": {
    "collapsed": false
   },
   "outputs": [
    {
     "data": {
      "text/html": [
       "<div>\n",
       "<table border=\"1\" class=\"dataframe\">\n",
       "  <thead>\n",
       "    <tr style=\"text-align: right;\">\n",
       "      <th></th>\n",
       "      <th>PassengerId</th>\n",
       "      <th>Survived</th>\n",
       "      <th>Pclass</th>\n",
       "      <th>Name</th>\n",
       "      <th>Sex</th>\n",
       "      <th>Age</th>\n",
       "      <th>SibSp</th>\n",
       "      <th>Parch</th>\n",
       "      <th>Ticket</th>\n",
       "      <th>Fare</th>\n",
       "      <th>Cabin</th>\n",
       "      <th>Embarked</th>\n",
       "      <th>Gender</th>\n",
       "      <th>GuessedAge</th>\n",
       "      <th>Port</th>\n",
       "      <th>FamSize</th>\n",
       "      <th>AgeRange</th>\n",
       "    </tr>\n",
       "  </thead>\n",
       "  <tbody>\n",
       "    <tr>\n",
       "      <th>149</th>\n",
       "      <td>150</td>\n",
       "      <td>0</td>\n",
       "      <td>2</td>\n",
       "      <td>Byles, Rev. Thomas Roussel Davids</td>\n",
       "      <td>male</td>\n",
       "      <td>42</td>\n",
       "      <td>0</td>\n",
       "      <td>0</td>\n",
       "      <td>244310</td>\n",
       "      <td>13.000</td>\n",
       "      <td>NaN</td>\n",
       "      <td>S</td>\n",
       "      <td>1</td>\n",
       "      <td>0</td>\n",
       "      <td>1</td>\n",
       "      <td>0</td>\n",
       "      <td>adult</td>\n",
       "    </tr>\n",
       "    <tr>\n",
       "      <th>150</th>\n",
       "      <td>151</td>\n",
       "      <td>0</td>\n",
       "      <td>2</td>\n",
       "      <td>Bateman, Rev. Robert James</td>\n",
       "      <td>male</td>\n",
       "      <td>51</td>\n",
       "      <td>0</td>\n",
       "      <td>0</td>\n",
       "      <td>S.O.P. 1166</td>\n",
       "      <td>12.525</td>\n",
       "      <td>NaN</td>\n",
       "      <td>S</td>\n",
       "      <td>1</td>\n",
       "      <td>0</td>\n",
       "      <td>1</td>\n",
       "      <td>0</td>\n",
       "      <td>adult</td>\n",
       "    </tr>\n",
       "    <tr>\n",
       "      <th>249</th>\n",
       "      <td>250</td>\n",
       "      <td>0</td>\n",
       "      <td>2</td>\n",
       "      <td>Carter, Rev. Ernest Courtenay</td>\n",
       "      <td>male</td>\n",
       "      <td>54</td>\n",
       "      <td>1</td>\n",
       "      <td>0</td>\n",
       "      <td>244252</td>\n",
       "      <td>26.000</td>\n",
       "      <td>NaN</td>\n",
       "      <td>S</td>\n",
       "      <td>1</td>\n",
       "      <td>0</td>\n",
       "      <td>1</td>\n",
       "      <td>1</td>\n",
       "      <td>adult</td>\n",
       "    </tr>\n",
       "    <tr>\n",
       "      <th>626</th>\n",
       "      <td>627</td>\n",
       "      <td>0</td>\n",
       "      <td>2</td>\n",
       "      <td>Kirkland, Rev. Charles Leonard</td>\n",
       "      <td>male</td>\n",
       "      <td>57</td>\n",
       "      <td>0</td>\n",
       "      <td>0</td>\n",
       "      <td>219533</td>\n",
       "      <td>12.350</td>\n",
       "      <td>NaN</td>\n",
       "      <td>Q</td>\n",
       "      <td>1</td>\n",
       "      <td>0</td>\n",
       "      <td>2</td>\n",
       "      <td>0</td>\n",
       "      <td>adult</td>\n",
       "    </tr>\n",
       "    <tr>\n",
       "      <th>848</th>\n",
       "      <td>849</td>\n",
       "      <td>0</td>\n",
       "      <td>2</td>\n",
       "      <td>Harper, Rev. John</td>\n",
       "      <td>male</td>\n",
       "      <td>28</td>\n",
       "      <td>0</td>\n",
       "      <td>1</td>\n",
       "      <td>248727</td>\n",
       "      <td>33.000</td>\n",
       "      <td>NaN</td>\n",
       "      <td>S</td>\n",
       "      <td>1</td>\n",
       "      <td>0</td>\n",
       "      <td>1</td>\n",
       "      <td>1</td>\n",
       "      <td>adult</td>\n",
       "    </tr>\n",
       "    <tr>\n",
       "      <th>886</th>\n",
       "      <td>887</td>\n",
       "      <td>0</td>\n",
       "      <td>2</td>\n",
       "      <td>Montvila, Rev. Juozas</td>\n",
       "      <td>male</td>\n",
       "      <td>27</td>\n",
       "      <td>0</td>\n",
       "      <td>0</td>\n",
       "      <td>211536</td>\n",
       "      <td>13.000</td>\n",
       "      <td>NaN</td>\n",
       "      <td>S</td>\n",
       "      <td>1</td>\n",
       "      <td>0</td>\n",
       "      <td>1</td>\n",
       "      <td>0</td>\n",
       "      <td>adult</td>\n",
       "    </tr>\n",
       "  </tbody>\n",
       "</table>\n",
       "</div>"
      ],
      "text/plain": [
       "     PassengerId  Survived  Pclass                               Name   Sex  \\\n",
       "149          150         0       2  Byles, Rev. Thomas Roussel Davids  male   \n",
       "150          151         0       2         Bateman, Rev. Robert James  male   \n",
       "249          250         0       2      Carter, Rev. Ernest Courtenay  male   \n",
       "626          627         0       2     Kirkland, Rev. Charles Leonard  male   \n",
       "848          849         0       2                  Harper, Rev. John  male   \n",
       "886          887         0       2              Montvila, Rev. Juozas  male   \n",
       "\n",
       "     Age  SibSp  Parch       Ticket    Fare Cabin Embarked  Gender  \\\n",
       "149   42      0      0       244310  13.000   NaN        S       1   \n",
       "150   51      0      0  S.O.P. 1166  12.525   NaN        S       1   \n",
       "249   54      1      0       244252  26.000   NaN        S       1   \n",
       "626   57      0      0       219533  12.350   NaN        Q       1   \n",
       "848   28      0      1       248727  33.000   NaN        S       1   \n",
       "886   27      0      0       211536  13.000   NaN        S       1   \n",
       "\n",
       "     GuessedAge  Port  FamSize AgeRange  \n",
       "149           0     1        0    adult  \n",
       "150           0     1        0    adult  \n",
       "249           0     1        1    adult  \n",
       "626           0     2        0    adult  \n",
       "848           0     1        1    adult  \n",
       "886           0     1        0    adult  "
      ]
     },
     "execution_count": 217,
     "metadata": {},
     "output_type": "execute_result"
    }
   ],
   "source": [
    "train2[train2.Name.str.match(r\".* Rev\\.\")]"
   ]
  },
  {
   "cell_type": "code",
   "execution_count": null,
   "metadata": {
    "collapsed": false
   },
   "outputs": [],
   "source": []
  },
  {
   "cell_type": "code",
   "execution_count": 50,
   "metadata": {
    "collapsed": false
   },
   "outputs": [
    {
     "name": "stdout",
     "output_type": "stream",
     "text": [
      "<class 'pandas.core.frame.DataFrame'>\n",
      "Int64Index: 418 entries, 0 to 417\n",
      "Data columns (total 10 columns):\n",
      "PassengerId    418 non-null int64\n",
      "Pclass         418 non-null int64\n",
      "Name           418 non-null object\n",
      "Age            418 non-null float64\n",
      "SibSp          418 non-null int64\n",
      "Parch          418 non-null int64\n",
      "Fare           417 non-null float64\n",
      "Embarked       418 non-null object\n",
      "Gender         418 non-null int64\n",
      "GuessedAge     418 non-null int64\n",
      "dtypes: float64(2), int64(6), object(2)\n",
      "memory usage: 35.9+ KB\n"
     ]
    }
   ],
   "source": [
    "test = clean(test, median_ages)\n",
    "test.info()"
   ]
  },
  {
   "cell_type": "code",
   "execution_count": null,
   "metadata": {
    "collapsed": false
   },
   "outputs": [],
   "source": []
  }
 ],
 "metadata": {
  "kernelspec": {
   "display_name": "Python 3",
   "language": "python",
   "name": "python3"
  },
  "language_info": {
   "codemirror_mode": {
    "name": "ipython",
    "version": 3
   },
   "file_extension": ".py",
   "mimetype": "text/x-python",
   "name": "python",
   "nbconvert_exporter": "python",
   "pygments_lexer": "ipython3",
   "version": "3.5.0"
  }
 },
 "nbformat": 4,
 "nbformat_minor": 0
}
