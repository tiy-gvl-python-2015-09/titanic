{
 "cells": [
  {
   "cell_type": "code",
   "execution_count": 1,
   "metadata": {
    "collapsed": false
   },
   "outputs": [
    {
     "name": "stderr",
     "output_type": "stream",
     "text": [
      "/Users/MatthewBarnette/iron_yard_hw/titanic/.direnv/python-3.5.0/lib/python3.5/site-packages/sklearn/utils/fixes.py:64: DeprecationWarning: inspect.getargspec() is deprecated, use inspect.signature() instead\n",
      "  if 'order' in inspect.getargspec(np.copy)[0]:\n"
     ]
    }
   ],
   "source": [
    "import re\n",
    "import pandas as pd\n",
    "import xgboost as xgb\n",
    "import seaborn as sns\n",
    "from math import ceil\n",
    "from sklearn.preprocessing import LabelEncoder\n",
    "from sklearn.cross_validation import train_test_split\n",
    "le = LabelEncoder()"
   ]
  },
  {
   "cell_type": "code",
   "execution_count": 2,
   "metadata": {
    "collapsed": true
   },
   "outputs": [],
   "source": [
    "def greater_than_point_five(num):\n",
    "    if num - int(num) >= .5:\n",
    "        return int(num) + 1\n",
    "    else:\n",
    "        return int(num)"
   ]
  },
  {
   "cell_type": "code",
   "execution_count": 3,
   "metadata": {
    "collapsed": false
   },
   "outputs": [],
   "source": [
    "titanic_train = pd.read_csv(\"titanic/train.csv\")\n",
    "titanic_test = pd.read_csv(\"titanic/test.csv\")\n",
    "titanic_test_fit = pd.read_csv(\"titanic/test.csv\")"
   ]
  },
  {
   "cell_type": "code",
   "execution_count": 4,
   "metadata": {
    "collapsed": false
   },
   "outputs": [
    {
     "name": "stderr",
     "output_type": "stream",
     "text": [
      "/Users/MatthewBarnette/iron_yard_hw/titanic/.direnv/python-3.5.0/lib/python3.5/site-packages/ipykernel/__main__.py:10: SettingWithCopyWarning: \n",
      "A value is trying to be set on a copy of a slice from a DataFrame\n",
      "\n",
      "See the caveats in the documentation: http://pandas.pydata.org/pandas-docs/stable/indexing.html#indexing-view-versus-copy\n"
     ]
    }
   ],
   "source": [
    "titanic_train.Cabin.fillna('Steerage', inplace=True)\n",
    "titanic_train = titanic_train.drop(['Name', 'Ticket'], axis=1)\n",
    "titanic_train.Age = titanic_train.Age.fillna(int(titanic_train.Age.mean()))\n",
    "titanic_train.Fare = titanic_train.Fare.fillna(titanic_train.Fare.mean())\n",
    "titanic_train.Embarked = titanic_train.Embarked.fillna('U')\n",
    "\n",
    "\n",
    "for row in range(len(titanic_train.Cabin)):\n",
    "    if re.findall(r'^[A-Z, a-z]\\d+', titanic_train.Cabin[row]):\n",
    "        titanic_train.Cabin[row] = re.findall(r'^[A-Z, a-z]', titanic_train.Cabin[row])[0]\n",
    "\n",
    "\n",
    "train, test = train_test_split(titanic_train, test_size = .4)"
   ]
  },
  {
   "cell_type": "code",
   "execution_count": 5,
   "metadata": {
    "collapsed": false
   },
   "outputs": [
    {
     "name": "stderr",
     "output_type": "stream",
     "text": [
      "/Users/MatthewBarnette/iron_yard_hw/titanic/.direnv/python-3.5.0/lib/python3.5/site-packages/ipykernel/__main__.py:9: SettingWithCopyWarning: \n",
      "A value is trying to be set on a copy of a slice from a DataFrame\n",
      "\n",
      "See the caveats in the documentation: http://pandas.pydata.org/pandas-docs/stable/indexing.html#indexing-view-versus-copy\n"
     ]
    }
   ],
   "source": [
    "titanic_test.Cabin.fillna('Steerage', inplace=True)\n",
    "titanic_test = titanic_test.drop(['Name', 'Ticket'], axis=1)\n",
    "titanic_test.Age = titanic_test.Age.fillna(int(titanic_train.Age.mean()))\n",
    "titanic_test.Fare = titanic_test.Fare.fillna(titanic_train.Fare.mean())\n",
    "titanic_test.Embarked = titanic_test.Embarked.fillna('U')\n",
    "\n",
    "for row in range(len(titanic_test.Cabin)):\n",
    "    if re.findall(r'^[A-Z, a-z]\\d+', titanic_test.Cabin[row]):\n",
    "        titanic_test.Cabin[row] = re.findall(r'^[A-Z, a-z]', titanic_test.Cabin[row])[0]"
   ]
  },
  {
   "cell_type": "code",
   "execution_count": 6,
   "metadata": {
    "collapsed": false
   },
   "outputs": [
    {
     "name": "stderr",
     "output_type": "stream",
     "text": [
      "/Users/MatthewBarnette/iron_yard_hw/titanic/.direnv/python-3.5.0/lib/python3.5/site-packages/ipykernel/__main__.py:9: SettingWithCopyWarning: \n",
      "A value is trying to be set on a copy of a slice from a DataFrame\n",
      "\n",
      "See the caveats in the documentation: http://pandas.pydata.org/pandas-docs/stable/indexing.html#indexing-view-versus-copy\n"
     ]
    }
   ],
   "source": [
    "titanic_test_fit.Cabin.fillna('Steerage', inplace=True)\n",
    "titanic_test_fit = titanic_test_fit.drop(['Name', 'Ticket'], axis=1)\n",
    "titanic_test_fit.Age = titanic_test_fit.Age.fillna(int(titanic_train.Age.mean()))\n",
    "titanic_test_fit.Fare = titanic_test_fit.Fare.fillna(titanic_train.Fare.mean())\n",
    "titanic_test_fit.Embarked = titanic_test_fit.Embarked.fillna('U')\n",
    "\n",
    "for row in range(len(titanic_test_fit.Cabin)):\n",
    "    if re.findall(r'^[A-Z, a-z]\\d+', titanic_test_fit.Cabin[row]):\n",
    "        titanic_test_fit.Cabin[row] = re.findall(r'^[A-Z, a-z]', titanic_test_fit.Cabin[row])[0]"
   ]
  },
  {
   "cell_type": "code",
   "execution_count": 7,
   "metadata": {
    "collapsed": false
   },
   "outputs": [
    {
     "data": {
      "text/html": [
       "<div>\n",
       "<table border=\"1\" class=\"dataframe\">\n",
       "  <thead>\n",
       "    <tr style=\"text-align: right;\">\n",
       "      <th></th>\n",
       "      <th>PassengerId</th>\n",
       "      <th>Pclass</th>\n",
       "      <th>Sex</th>\n",
       "      <th>Age</th>\n",
       "      <th>SibSp</th>\n",
       "      <th>Parch</th>\n",
       "      <th>Fare</th>\n",
       "      <th>Cabin</th>\n",
       "      <th>Embarked</th>\n",
       "    </tr>\n",
       "  </thead>\n",
       "  <tbody>\n",
       "    <tr>\n",
       "      <th>0</th>\n",
       "      <td>892</td>\n",
       "      <td>3</td>\n",
       "      <td>male</td>\n",
       "      <td>34.5</td>\n",
       "      <td>0</td>\n",
       "      <td>0</td>\n",
       "      <td>7.8292</td>\n",
       "      <td>Steerage</td>\n",
       "      <td>Q</td>\n",
       "    </tr>\n",
       "    <tr>\n",
       "      <th>1</th>\n",
       "      <td>893</td>\n",
       "      <td>3</td>\n",
       "      <td>female</td>\n",
       "      <td>47.0</td>\n",
       "      <td>1</td>\n",
       "      <td>0</td>\n",
       "      <td>7.0000</td>\n",
       "      <td>Steerage</td>\n",
       "      <td>S</td>\n",
       "    </tr>\n",
       "    <tr>\n",
       "      <th>2</th>\n",
       "      <td>894</td>\n",
       "      <td>2</td>\n",
       "      <td>male</td>\n",
       "      <td>62.0</td>\n",
       "      <td>0</td>\n",
       "      <td>0</td>\n",
       "      <td>9.6875</td>\n",
       "      <td>Steerage</td>\n",
       "      <td>Q</td>\n",
       "    </tr>\n",
       "    <tr>\n",
       "      <th>3</th>\n",
       "      <td>895</td>\n",
       "      <td>3</td>\n",
       "      <td>male</td>\n",
       "      <td>27.0</td>\n",
       "      <td>0</td>\n",
       "      <td>0</td>\n",
       "      <td>8.6625</td>\n",
       "      <td>Steerage</td>\n",
       "      <td>S</td>\n",
       "    </tr>\n",
       "    <tr>\n",
       "      <th>4</th>\n",
       "      <td>896</td>\n",
       "      <td>3</td>\n",
       "      <td>female</td>\n",
       "      <td>22.0</td>\n",
       "      <td>1</td>\n",
       "      <td>1</td>\n",
       "      <td>12.2875</td>\n",
       "      <td>Steerage</td>\n",
       "      <td>S</td>\n",
       "    </tr>\n",
       "  </tbody>\n",
       "</table>\n",
       "</div>"
      ],
      "text/plain": [
       "   PassengerId  Pclass     Sex   Age  SibSp  Parch     Fare     Cabin Embarked\n",
       "0          892       3    male  34.5      0      0   7.8292  Steerage        Q\n",
       "1          893       3  female  47.0      1      0   7.0000  Steerage        S\n",
       "2          894       2    male  62.0      0      0   9.6875  Steerage        Q\n",
       "3          895       3    male  27.0      0      0   8.6625  Steerage        S\n",
       "4          896       3  female  22.0      1      1  12.2875  Steerage        S"
      ]
     },
     "execution_count": 7,
     "metadata": {},
     "output_type": "execute_result"
    }
   ],
   "source": [
    "titanic_test.head()"
   ]
  },
  {
   "cell_type": "code",
   "execution_count": 9,
   "metadata": {
    "collapsed": false
   },
   "outputs": [
    {
     "name": "stderr",
     "output_type": "stream",
     "text": [
      "/Users/MatthewBarnette/iron_yard_hw/titanic/.direnv/python-3.5.0/lib/python3.5/site-packages/ipykernel/__main__.py:9: SettingWithCopyWarning: \n",
      "A value is trying to be set on a copy of a slice from a DataFrame.\n",
      "Try using .loc[row_indexer,col_indexer] = value instead\n",
      "\n",
      "See the caveats in the documentation: http://pandas.pydata.org/pandas-docs/stable/indexing.html#indexing-view-versus-copy\n",
      "/Users/MatthewBarnette/iron_yard_hw/titanic/.direnv/python-3.5.0/lib/python3.5/site-packages/ipykernel/__main__.py:14: SettingWithCopyWarning: \n",
      "A value is trying to be set on a copy of a slice from a DataFrame.\n",
      "Try using .loc[row_indexer,col_indexer] = value instead\n",
      "\n",
      "See the caveats in the documentation: http://pandas.pydata.org/pandas-docs/stable/indexing.html#indexing-view-versus-copy\n"
     ]
    }
   ],
   "source": [
    "for column in titanic_test.columns.values:\n",
    "    if column == 'Sex' or column == 'Cabin' or column == 'Embarked':\n",
    "        le.fit(titanic_test_fit[column])\n",
    "        titanic_test[column] = le.transform(titanic_test[column])\n",
    "\n",
    "for column in titanic_train.columns.values:\n",
    "    if column == 'Sex' or column == 'Cabin' or column == 'Embarked':\n",
    "        le.fit(titanic_train[column])\n",
    "        train[column] = le.transform(train[column])\n",
    "\n",
    "for column in titanic_train.columns.values:\n",
    "    if column == 'Sex' or column == 'Cabin' or column == 'Embarked':\n",
    "        le.fit(titanic_train[column])        \n",
    "        test[column] = le.transform(test[column])"
   ]
  },
  {
   "cell_type": "code",
   "execution_count": 10,
   "metadata": {
    "collapsed": true
   },
   "outputs": [],
   "source": [
    "survived_train = train['Survived']\n",
    "train = train.drop(['Survived'], axis=1)\n",
    "\n",
    "survived_test = test['Survived']\n",
    "test = test.drop(['Survived'], axis=1)"
   ]
  },
  {
   "cell_type": "code",
   "execution_count": 11,
   "metadata": {
    "collapsed": false
   },
   "outputs": [],
   "source": [
    "dtrain = xgb.DMatrix(train.as_matrix(),\n",
    "                     label=survived_train)\n",
    "dtest = xgb.DMatrix(test.as_matrix(),\n",
    "                    label=survived_test)"
   ]
  },
  {
   "cell_type": "code",
   "execution_count": 65,
   "metadata": {
    "collapsed": true
   },
   "outputs": [],
   "source": [
    "param = {'bst:max_depth':6, 'objective':'binary:logistic'}\n",
    "param['nthread'] = 4\n",
    "param['eval_metric'] = ['map']\n",
    "evallist  = [(dtrain,'train'), (dtest,'eval')]\n",
    "num_round = 500"
   ]
  },
  {
   "cell_type": "code",
   "execution_count": 66,
   "metadata": {
    "collapsed": false
   },
   "outputs": [
    {
     "name": "stderr",
     "output_type": "stream",
     "text": [
      "Will train until eval error hasn't decreased in 5 rounds.\n",
      "[0]\ttrain-map:0.876994\teval-map:0.836080\n",
      "[1]\ttrain-map:0.896219\teval-map:0.849440\n",
      "[2]\ttrain-map:0.919653\teval-map:0.833033\n",
      "[3]\ttrain-map:0.929930\teval-map:0.844601\n",
      "[4]\ttrain-map:0.941027\teval-map:0.840366\n",
      "[5]\ttrain-map:0.949315\teval-map:0.832462\n",
      "[6]\ttrain-map:0.951164\teval-map:0.835601\n",
      "Stopping. Best iteration:\n",
      "[1]\ttrain-map:0.896219\teval-map:0.849440\n",
      "\n"
     ]
    }
   ],
   "source": [
    "bst = xgb.train(param, dtrain, num_round, evallist, early_stopping_rounds=5)"
   ]
  },
  {
   "cell_type": "markdown",
   "metadata": {},
   "source": [
    "[4]\ttrain-error:0.091760\ttrain-logloss:0.320786\teval-error:0.196078\teval-logloss:0.462080"
   ]
  },
  {
   "cell_type": "code",
   "execution_count": 67,
   "metadata": {
    "collapsed": false
   },
   "outputs": [],
   "source": [
    "predictions = bst.predict(xgb.DMatrix(titanic_test.as_matrix()), output_margin=False)"
   ]
  },
  {
   "cell_type": "code",
   "execution_count": 68,
   "metadata": {
    "collapsed": true
   },
   "outputs": [],
   "source": [
    "new_pred = []\n",
    "for decimal in predictions:\n",
    "    number = greater_than_point_five(decimal)\n",
    "    new_pred.append(number)"
   ]
  },
  {
   "cell_type": "code",
   "execution_count": 69,
   "metadata": {
    "collapsed": false
   },
   "outputs": [
    {
     "data": {
      "text/html": [
       "<div>\n",
       "<table border=\"1\" class=\"dataframe\">\n",
       "  <thead>\n",
       "    <tr style=\"text-align: right;\">\n",
       "      <th></th>\n",
       "      <th>0</th>\n",
       "    </tr>\n",
       "  </thead>\n",
       "  <tbody>\n",
       "    <tr>\n",
       "      <th>0</th>\n",
       "      <td>0.152268</td>\n",
       "    </tr>\n",
       "    <tr>\n",
       "      <th>1</th>\n",
       "      <td>0.666952</td>\n",
       "    </tr>\n",
       "    <tr>\n",
       "      <th>2</th>\n",
       "      <td>0.130306</td>\n",
       "    </tr>\n",
       "    <tr>\n",
       "      <th>3</th>\n",
       "      <td>0.173399</td>\n",
       "    </tr>\n",
       "    <tr>\n",
       "      <th>4</th>\n",
       "      <td>0.423284</td>\n",
       "    </tr>\n",
       "  </tbody>\n",
       "</table>\n",
       "</div>"
      ],
      "text/plain": [
       "          0\n",
       "0  0.152268\n",
       "1  0.666952\n",
       "2  0.130306\n",
       "3  0.173399\n",
       "4  0.423284"
      ]
     },
     "execution_count": 69,
     "metadata": {},
     "output_type": "execute_result"
    }
   ],
   "source": [
    "pd.DataFrame(predictions).head()"
   ]
  },
  {
   "cell_type": "code",
   "execution_count": 70,
   "metadata": {
    "collapsed": false
   },
   "outputs": [],
   "source": [
    "titanic_test_fit['Survived'] = new_pred"
   ]
  },
  {
   "cell_type": "code",
   "execution_count": 71,
   "metadata": {
    "collapsed": false
   },
   "outputs": [],
   "source": [
    "results = titanic_test_fit.drop(['Pclass', 'Sex', 'Age', 'SibSp', 'Parch', 'Fare',\n",
    "       'Cabin', 'Embarked'], axis=1)"
   ]
  },
  {
   "cell_type": "code",
   "execution_count": 72,
   "metadata": {
    "collapsed": true
   },
   "outputs": [],
   "source": [
    "results.to_csv('XGBoost_Titanic_results.csv', index=False)"
   ]
  }
 ],
 "metadata": {
  "kernelspec": {
   "display_name": "Python 3",
   "language": "python",
   "name": "python3"
  },
  "language_info": {
   "codemirror_mode": {
    "name": "ipython",
    "version": 3
   },
   "file_extension": ".py",
   "mimetype": "text/x-python",
   "name": "python",
   "nbconvert_exporter": "python",
   "pygments_lexer": "ipython3",
   "version": "3.5.0"
  }
 },
 "nbformat": 4,
 "nbformat_minor": 0
}
