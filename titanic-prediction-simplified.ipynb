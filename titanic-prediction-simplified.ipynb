{
 "cells": [
  {
   "cell_type": "code",
   "execution_count": 1,
   "metadata": {
    "collapsed": true
   },
   "outputs": [],
   "source": [
    "import pandas as pd\n",
    "import numpy as np\n",
    "import matplotlib.pyplot as plt\n",
    "import seaborn as sb\n",
    "%matplotlib inline\n",
    "train = pd.read_csv(\"titanic/train.csv\")\n"
   ]
  },
  {
   "cell_type": "code",
   "execution_count": 3,
   "metadata": {
    "collapsed": false
   },
   "outputs": [
    {
     "data": {
      "text/html": [
       "<div>\n",
       "<table border=\"1\" class=\"dataframe\">\n",
       "  <thead>\n",
       "    <tr style=\"text-align: right;\">\n",
       "      <th></th>\n",
       "      <th>Survived</th>\n",
       "    </tr>\n",
       "    <tr>\n",
       "      <th>Pclass</th>\n",
       "      <th></th>\n",
       "    </tr>\n",
       "  </thead>\n",
       "  <tbody>\n",
       "    <tr>\n",
       "      <th>1</th>\n",
       "      <td>0.629630</td>\n",
       "    </tr>\n",
       "    <tr>\n",
       "      <th>2</th>\n",
       "      <td>0.472826</td>\n",
       "    </tr>\n",
       "    <tr>\n",
       "      <th>3</th>\n",
       "      <td>0.242363</td>\n",
       "    </tr>\n",
       "  </tbody>\n",
       "</table>\n",
       "</div>"
      ],
      "text/plain": [
       "        Survived\n",
       "Pclass          \n",
       "1       0.629630\n",
       "2       0.472826\n",
       "3       0.242363"
      ]
     },
     "execution_count": 3,
     "metadata": {},
     "output_type": "execute_result"
    }
   ],
   "source": [
    "class_survivor_table = pd.pivot_table(train, index=[\"Pclass\"], values=[\"Survived\"])\n",
    "#class_survivor_table.plot(kind=\"barh\")\n",
    "class_survivor_table"
   ]
  },
  {
   "cell_type": "code",
   "execution_count": 4,
   "metadata": {
    "collapsed": false
   },
   "outputs": [
    {
     "data": {
      "text/html": [
       "<div>\n",
       "<table border=\"1\" class=\"dataframe\">\n",
       "  <thead>\n",
       "    <tr style=\"text-align: right;\">\n",
       "      <th></th>\n",
       "      <th>Survived</th>\n",
       "    </tr>\n",
       "    <tr>\n",
       "      <th>Sex</th>\n",
       "      <th></th>\n",
       "    </tr>\n",
       "  </thead>\n",
       "  <tbody>\n",
       "    <tr>\n",
       "      <th>female</th>\n",
       "      <td>0.742038</td>\n",
       "    </tr>\n",
       "    <tr>\n",
       "      <th>male</th>\n",
       "      <td>0.188908</td>\n",
       "    </tr>\n",
       "  </tbody>\n",
       "</table>\n",
       "</div>"
      ],
      "text/plain": [
       "        Survived\n",
       "Sex             \n",
       "female  0.742038\n",
       "male    0.188908"
      ]
     },
     "execution_count": 4,
     "metadata": {},
     "output_type": "execute_result"
    }
   ],
   "source": [
    "sex_survivor_table = pd.pivot_table(train, index=[\"Sex\"], values=[\"Survived\"])\n",
    "#sex_survivor_table.plot(kind=\"barh\")\n",
    "sex_survivor_table"
   ]
  },
  {
   "cell_type": "markdown",
   "metadata": {},
   "source": [
    "Group Ages into ranges:\n",
    "\n",
    "Rationale: Age and survival are not linearly related. Specifically, children under 10 had an outsized chance of survival (they take up less room on a raft)."
   ]
  },
  {
   "cell_type": "code",
   "execution_count": 6,
   "metadata": {
    "collapsed": false
   },
   "outputs": [
    {
     "data": {
      "text/html": [
       "<div>\n",
       "<table border=\"1\" class=\"dataframe\">\n",
       "  <thead>\n",
       "    <tr style=\"text-align: right;\">\n",
       "      <th></th>\n",
       "      <th>Survived</th>\n",
       "    </tr>\n",
       "    <tr>\n",
       "      <th>AgeRange</th>\n",
       "      <th></th>\n",
       "    </tr>\n",
       "  </thead>\n",
       "  <tbody>\n",
       "    <tr>\n",
       "      <th>05_under</th>\n",
       "      <td>0.675000</td>\n",
       "    </tr>\n",
       "    <tr>\n",
       "      <th>12_under</th>\n",
       "      <td>0.428571</td>\n",
       "    </tr>\n",
       "    <tr>\n",
       "      <th>12to18</th>\n",
       "      <td>0.488889</td>\n",
       "    </tr>\n",
       "    <tr>\n",
       "      <th>18to35</th>\n",
       "      <td>0.368852</td>\n",
       "    </tr>\n",
       "    <tr>\n",
       "      <th>35to50</th>\n",
       "      <td>0.416149</td>\n",
       "    </tr>\n",
       "    <tr>\n",
       "      <th>50_plus</th>\n",
       "      <td>0.364865</td>\n",
       "    </tr>\n",
       "    <tr>\n",
       "      <th>unknown</th>\n",
       "      <td>0.293785</td>\n",
       "    </tr>\n",
       "  </tbody>\n",
       "</table>\n",
       "</div>"
      ],
      "text/plain": [
       "          Survived\n",
       "AgeRange          \n",
       "05_under  0.675000\n",
       "12_under  0.428571\n",
       "12to18    0.488889\n",
       "18to35    0.368852\n",
       "35to50    0.416149\n",
       "50_plus   0.364865\n",
       "unknown   0.293785"
      ]
     },
     "execution_count": 6,
     "metadata": {},
     "output_type": "execute_result"
    }
   ],
   "source": [
    "def create_age_range(age):\n",
    "    if str(age) == \"nan\":\n",
    "        return \"unknown\"\n",
    "    elif 0 <= age < 5: \n",
    "        return \"05_under\" \n",
    "    elif 5 <= age < 12: \n",
    "        return \"12_under\" \n",
    "    elif 12 <= age < 18: \n",
    "        return \"12to18\" \n",
    "    elif 18 <= age < 35: \n",
    "        return \"18to35\" \n",
    "    elif 35 <= age < 50: \n",
    "        return \"35to50\" \n",
    "    elif 50 <= age: \n",
    "        return \"50_plus\" \n",
    "\n",
    "    \n",
    "train[\"AgeRange\"] = train[\"Age\"].map(create_age_range)\n",
    "\n",
    "\n",
    "sex_agerange_survivor_table = pd.pivot_table(train, index=[\"AgeRange\"], values=[\"Survived\"])\n",
    "#sex_agerange_survivor_table.plot(kind=\"barh\")\n",
    "sex_agerange_survivor_table"
   ]
  },
  {
   "cell_type": "code",
   "execution_count": 9,
   "metadata": {
    "collapsed": false
   },
   "outputs": [
    {
     "data": {
      "text/html": [
       "<div>\n",
       "<table border=\"1\" class=\"dataframe\">\n",
       "  <thead>\n",
       "    <tr style=\"text-align: right;\">\n",
       "      <th></th>\n",
       "      <th>Survived</th>\n",
       "    </tr>\n",
       "    <tr>\n",
       "      <th>SibSp</th>\n",
       "      <th></th>\n",
       "    </tr>\n",
       "  </thead>\n",
       "  <tbody>\n",
       "    <tr>\n",
       "      <th>0</th>\n",
       "      <td>0.345395</td>\n",
       "    </tr>\n",
       "    <tr>\n",
       "      <th>1</th>\n",
       "      <td>0.535885</td>\n",
       "    </tr>\n",
       "    <tr>\n",
       "      <th>2</th>\n",
       "      <td>0.464286</td>\n",
       "    </tr>\n",
       "    <tr>\n",
       "      <th>3</th>\n",
       "      <td>0.250000</td>\n",
       "    </tr>\n",
       "    <tr>\n",
       "      <th>4</th>\n",
       "      <td>0.166667</td>\n",
       "    </tr>\n",
       "    <tr>\n",
       "      <th>5</th>\n",
       "      <td>0.000000</td>\n",
       "    </tr>\n",
       "    <tr>\n",
       "      <th>8</th>\n",
       "      <td>0.000000</td>\n",
       "    </tr>\n",
       "  </tbody>\n",
       "</table>\n",
       "</div>"
      ],
      "text/plain": [
       "       Survived\n",
       "SibSp          \n",
       "0      0.345395\n",
       "1      0.535885\n",
       "2      0.464286\n",
       "3      0.250000\n",
       "4      0.166667\n",
       "5      0.000000\n",
       "8      0.000000"
      ]
     },
     "execution_count": 9,
     "metadata": {},
     "output_type": "execute_result"
    }
   ],
   "source": [
    "SibSp_survivor_table = pd.pivot_table(train, index=[\"SibSp\"], values=[\"Survived\"])\n",
    "#SibSp_survivor_table.plot(kind=\"barh\")\n",
    "SibSp_survivor_table"
   ]
  },
  {
   "cell_type": "code",
   "execution_count": 10,
   "metadata": {
    "collapsed": false
   },
   "outputs": [
    {
     "data": {
      "text/html": [
       "<div>\n",
       "<table border=\"1\" class=\"dataframe\">\n",
       "  <thead>\n",
       "    <tr style=\"text-align: right;\">\n",
       "      <th></th>\n",
       "      <th>Survived</th>\n",
       "    </tr>\n",
       "    <tr>\n",
       "      <th>Parch</th>\n",
       "      <th></th>\n",
       "    </tr>\n",
       "  </thead>\n",
       "  <tbody>\n",
       "    <tr>\n",
       "      <th>0</th>\n",
       "      <td>0.343658</td>\n",
       "    </tr>\n",
       "    <tr>\n",
       "      <th>1</th>\n",
       "      <td>0.550847</td>\n",
       "    </tr>\n",
       "    <tr>\n",
       "      <th>2</th>\n",
       "      <td>0.500000</td>\n",
       "    </tr>\n",
       "    <tr>\n",
       "      <th>3</th>\n",
       "      <td>0.600000</td>\n",
       "    </tr>\n",
       "    <tr>\n",
       "      <th>4</th>\n",
       "      <td>0.000000</td>\n",
       "    </tr>\n",
       "    <tr>\n",
       "      <th>5</th>\n",
       "      <td>0.200000</td>\n",
       "    </tr>\n",
       "    <tr>\n",
       "      <th>6</th>\n",
       "      <td>0.000000</td>\n",
       "    </tr>\n",
       "  </tbody>\n",
       "</table>\n",
       "</div>"
      ],
      "text/plain": [
       "       Survived\n",
       "Parch          \n",
       "0      0.343658\n",
       "1      0.550847\n",
       "2      0.500000\n",
       "3      0.600000\n",
       "4      0.000000\n",
       "5      0.200000\n",
       "6      0.000000"
      ]
     },
     "execution_count": 10,
     "metadata": {},
     "output_type": "execute_result"
    }
   ],
   "source": [
    "Parch_survivor_table = pd.pivot_table(train, index=[\"Parch\"], values=[\"Survived\"])\n",
    "#Parch_survivor_table.plot(kind=\"barh\")\n",
    "Parch_survivor_table"
   ]
  },
  {
   "cell_type": "code",
   "execution_count": 30,
   "metadata": {
    "collapsed": false
   },
   "outputs": [
    {
     "data": {
      "text/html": [
       "<div>\n",
       "<table border=\"1\" class=\"dataframe\">\n",
       "  <thead>\n",
       "    <tr style=\"text-align: right;\">\n",
       "      <th></th>\n",
       "      <th>Survived</th>\n",
       "    </tr>\n",
       "    <tr>\n",
       "      <th>FareRange</th>\n",
       "      <th></th>\n",
       "    </tr>\n",
       "  </thead>\n",
       "  <tbody>\n",
       "    <tr>\n",
       "      <th>.under10</th>\n",
       "      <td>0.612903</td>\n",
       "    </tr>\n",
       "    <tr>\n",
       "      <th>10to20</th>\n",
       "      <td>0.401961</td>\n",
       "    </tr>\n",
       "    <tr>\n",
       "      <th>20to30</th>\n",
       "      <td>0.350000</td>\n",
       "    </tr>\n",
       "    <tr>\n",
       "      <th>30+</th>\n",
       "      <td>0.406061</td>\n",
       "    </tr>\n",
       "    <tr>\n",
       "      <th>_?unknown</th>\n",
       "      <td>0.293785</td>\n",
       "    </tr>\n",
       "  </tbody>\n",
       "</table>\n",
       "</div>"
      ],
      "text/plain": [
       "           Survived\n",
       "FareRange          \n",
       ".under10   0.612903\n",
       "10to20     0.401961\n",
       "20to30     0.350000\n",
       "30+        0.406061\n",
       "_?unknown  0.293785"
      ]
     },
     "execution_count": 30,
     "metadata": {},
     "output_type": "execute_result"
    }
   ],
   "source": [
    "def create_fare_range(fare):\n",
    "    if 0 <= fare < 10: \n",
    "        return \".under10\" \n",
    "    elif 10 <= fare < 20: \n",
    "        return \"10to20\" \n",
    "    elif 20 <= fare < 30: \n",
    "        return \"20to30\" \n",
    "    elif 30 <= fare: \n",
    "        return \"30+\" \n",
    "    else:    \n",
    "        return \"_?unknown\"  \n",
    "train[\"FareRange\"] = train[\"Age\"].map(create_fare_range)\n",
    "Fare_survivor_table = pd.pivot_table(train, index=[\"FareRange\"], values=[\"Survived\"])\n",
    "#Fare_survivor_table.plot(kind=\"barh\")\n",
    "Fare_survivor_table"
   ]
  },
  {
   "cell_type": "code",
   "execution_count": 26,
   "metadata": {
    "collapsed": false
   },
   "outputs": [
    {
     "name": "stdout",
     "output_type": "stream",
     "text": [
      "aboard = 2224 \n",
      "train_aboard = 891 \n",
      "test_aboard = 1333 \n",
      "onboard_scaleup = 1.4960718294051627\n",
      "\n",
      "survived = 722 \n",
      "train_survived = 342 \n",
      "test_survived = 380 \n",
      "survived_scaleup = 1.1111111111111112\n"
     ]
    }
   ],
   "source": [
    "all_onboard = 2224\n",
    "train_onboard = len(train.Survived)\n",
    "test_onboard = all_onboard - train_onboard\n",
    "test_scaleup = test_onboard / train_onboard\n",
    "\n",
    "all_survived = 722\n",
    "train_survived = sum(train.Survived)\n",
    "test_survived = all_survived - train_survived\n",
    "survived_scaleup = test_survived / train_survived\n",
    "\n",
    "print(\"aboard = {} \\ntrain_aboard = {} \\ntest_aboard = {} \\nonboard_scaleup = {}\".format(all_onboard, train_onboard, test_onboard, test_scaleup))\n",
    "print(\"\")\n",
    "print(\"survived = {} \\ntrain_survived = {} \\ntest_survived = {} \\nsurvived_scaleup = {}\".format(all_survived, train_survived, test_survived, survived_scaleup))"
   ]
  },
  {
   "cell_type": "code",
   "execution_count": 27,
   "metadata": {
    "collapsed": false
   },
   "outputs": [
    {
     "data": {
      "text/html": [
       "<div>\n",
       "<table border=\"1\" class=\"dataframe\">\n",
       "  <thead>\n",
       "    <tr style=\"text-align: right;\">\n",
       "      <th></th>\n",
       "      <th>PassengerId</th>\n",
       "      <th>Survived</th>\n",
       "      <th>Pclass</th>\n",
       "      <th>Name</th>\n",
       "      <th>Sex</th>\n",
       "      <th>Age</th>\n",
       "      <th>SibSp</th>\n",
       "      <th>Parch</th>\n",
       "      <th>Ticket</th>\n",
       "      <th>Fare</th>\n",
       "      <th>Cabin</th>\n",
       "      <th>Embarked</th>\n",
       "      <th>AgeRange</th>\n",
       "      <th>FareRange</th>\n",
       "      <th>TicketPrice</th>\n",
       "      <th>farerangelives</th>\n",
       "      <th>classlives</th>\n",
       "      <th>sexlives</th>\n",
       "      <th>agerangelives</th>\n",
       "      <th>Score</th>\n",
       "    </tr>\n",
       "  </thead>\n",
       "  <tbody>\n",
       "    <tr>\n",
       "      <th>0</th>\n",
       "      <td>1</td>\n",
       "      <td>0</td>\n",
       "      <td>3</td>\n",
       "      <td>Braund, Mr. Owen Harris</td>\n",
       "      <td>male</td>\n",
       "      <td>22</td>\n",
       "      <td>1</td>\n",
       "      <td>0</td>\n",
       "      <td>A/5 21171</td>\n",
       "      <td>7.2500</td>\n",
       "      <td>NaN</td>\n",
       "      <td>S</td>\n",
       "      <td>18to35</td>\n",
       "      <td>20to30</td>\n",
       "      <td>&lt; $10</td>\n",
       "      <td>0.350000</td>\n",
       "      <td>0.242363</td>\n",
       "      <td>0.188908</td>\n",
       "      <td>0.368852</td>\n",
       "      <td>0.005911</td>\n",
       "    </tr>\n",
       "    <tr>\n",
       "      <th>1</th>\n",
       "      <td>2</td>\n",
       "      <td>1</td>\n",
       "      <td>1</td>\n",
       "      <td>Cumings, Mrs. John Bradley (Florence Briggs Th...</td>\n",
       "      <td>female</td>\n",
       "      <td>38</td>\n",
       "      <td>1</td>\n",
       "      <td>0</td>\n",
       "      <td>PC 17599</td>\n",
       "      <td>71.2833</td>\n",
       "      <td>C85</td>\n",
       "      <td>C</td>\n",
       "      <td>35to50</td>\n",
       "      <td>30+</td>\n",
       "      <td>&gt; $30</td>\n",
       "      <td>0.406061</td>\n",
       "      <td>0.629630</td>\n",
       "      <td>0.742038</td>\n",
       "      <td>0.416149</td>\n",
       "      <td>0.078950</td>\n",
       "    </tr>\n",
       "    <tr>\n",
       "      <th>2</th>\n",
       "      <td>3</td>\n",
       "      <td>1</td>\n",
       "      <td>3</td>\n",
       "      <td>Heikkinen, Miss. Laina</td>\n",
       "      <td>female</td>\n",
       "      <td>26</td>\n",
       "      <td>0</td>\n",
       "      <td>0</td>\n",
       "      <td>STON/O2. 3101282</td>\n",
       "      <td>7.9250</td>\n",
       "      <td>NaN</td>\n",
       "      <td>S</td>\n",
       "      <td>18to35</td>\n",
       "      <td>20to30</td>\n",
       "      <td>&lt; $10</td>\n",
       "      <td>0.350000</td>\n",
       "      <td>0.242363</td>\n",
       "      <td>0.742038</td>\n",
       "      <td>0.368852</td>\n",
       "      <td>0.023217</td>\n",
       "    </tr>\n",
       "    <tr>\n",
       "      <th>3</th>\n",
       "      <td>4</td>\n",
       "      <td>1</td>\n",
       "      <td>1</td>\n",
       "      <td>Futrelle, Mrs. Jacques Heath (Lily May Peel)</td>\n",
       "      <td>female</td>\n",
       "      <td>35</td>\n",
       "      <td>1</td>\n",
       "      <td>0</td>\n",
       "      <td>113803</td>\n",
       "      <td>53.1000</td>\n",
       "      <td>C123</td>\n",
       "      <td>S</td>\n",
       "      <td>35to50</td>\n",
       "      <td>30+</td>\n",
       "      <td>&gt; $30</td>\n",
       "      <td>0.406061</td>\n",
       "      <td>0.629630</td>\n",
       "      <td>0.742038</td>\n",
       "      <td>0.416149</td>\n",
       "      <td>0.078950</td>\n",
       "    </tr>\n",
       "    <tr>\n",
       "      <th>4</th>\n",
       "      <td>5</td>\n",
       "      <td>0</td>\n",
       "      <td>3</td>\n",
       "      <td>Allen, Mr. William Henry</td>\n",
       "      <td>male</td>\n",
       "      <td>35</td>\n",
       "      <td>0</td>\n",
       "      <td>0</td>\n",
       "      <td>373450</td>\n",
       "      <td>8.0500</td>\n",
       "      <td>NaN</td>\n",
       "      <td>S</td>\n",
       "      <td>35to50</td>\n",
       "      <td>30+</td>\n",
       "      <td>&lt; $10</td>\n",
       "      <td>0.406061</td>\n",
       "      <td>0.242363</td>\n",
       "      <td>0.188908</td>\n",
       "      <td>0.416149</td>\n",
       "      <td>0.007737</td>\n",
       "    </tr>\n",
       "  </tbody>\n",
       "</table>\n",
       "</div>"
      ],
      "text/plain": [
       "   PassengerId  Survived  Pclass  \\\n",
       "0            1         0       3   \n",
       "1            2         1       1   \n",
       "2            3         1       3   \n",
       "3            4         1       1   \n",
       "4            5         0       3   \n",
       "\n",
       "                                                Name     Sex  Age  SibSp  \\\n",
       "0                            Braund, Mr. Owen Harris    male   22      1   \n",
       "1  Cumings, Mrs. John Bradley (Florence Briggs Th...  female   38      1   \n",
       "2                             Heikkinen, Miss. Laina  female   26      0   \n",
       "3       Futrelle, Mrs. Jacques Heath (Lily May Peel)  female   35      1   \n",
       "4                           Allen, Mr. William Henry    male   35      0   \n",
       "\n",
       "   Parch            Ticket     Fare Cabin Embarked AgeRange FareRange  \\\n",
       "0      0         A/5 21171   7.2500   NaN        S   18to35    20to30   \n",
       "1      0          PC 17599  71.2833   C85        C   35to50       30+   \n",
       "2      0  STON/O2. 3101282   7.9250   NaN        S   18to35    20to30   \n",
       "3      0            113803  53.1000  C123        S   35to50       30+   \n",
       "4      0            373450   8.0500   NaN        S   35to50       30+   \n",
       "\n",
       "  TicketPrice  farerangelives  classlives  sexlives  agerangelives     Score  \n",
       "0       < $10        0.350000    0.242363  0.188908       0.368852  0.005911  \n",
       "1       > $30        0.406061    0.629630  0.742038       0.416149  0.078950  \n",
       "2       < $10        0.350000    0.242363  0.742038       0.368852  0.023217  \n",
       "3       > $30        0.406061    0.629630  0.742038       0.416149  0.078950  \n",
       "4       < $10        0.406061    0.242363  0.188908       0.416149  0.007737  "
      ]
     },
     "execution_count": 27,
     "metadata": {},
     "output_type": "execute_result"
    }
   ],
   "source": [
    "def classlive(Pclass):\n",
    "    if Pclass == 1:\n",
    "        return 0.62963\n",
    "    elif Pclass == 2:\n",
    "        return 0.472826\n",
    "    elif Pclass == 3:\n",
    "        return 0.242363\n",
    "\n",
    "def sexlive(Sex):\n",
    "    if Sex == \"female\":\n",
    "        return 0.742038\n",
    "    elif Sex == \"male\":\n",
    "        return 0.188908\n",
    "    \n",
    "def agerangelive(AgeRange):\n",
    "    if AgeRange == \"05_under\":\n",
    "        return 0.675\n",
    "    elif AgeRange == \"12_under\":\n",
    "        return 0.428571\n",
    "    elif AgeRange == \"12to18\":\n",
    "        return 0.488889\n",
    "    elif AgeRange == \"18to35\":\n",
    "        return 0.368852\n",
    "    elif AgeRange == \"35to50\":\n",
    "        return 0.416149\n",
    "    elif AgeRange == \"50_plus\":\n",
    "        return 0.364865\n",
    "    else:\n",
    "        return 0.293785\n",
    "\n",
    "def farerangelive(farerange):\n",
    "    if farerange == \"10to20\":\n",
    "        return 0.401961\n",
    "    elif farerange == \"20to30\":\n",
    "        return 0.350000\n",
    "    elif farerange == \"30+\":\n",
    "        return 0.406061\n",
    "    elif farerange == \"_?unknown\":\n",
    "        return 0.293785\n",
    "    elif farerange == \"_under10\":\n",
    "        return 0.612903\n",
    "\n",
    "train[\"farerangelives\"] = train.FareRange.map(farerangelive)\n",
    "train[\"classlives\"] = train.Pclass.map(classlive)\n",
    "train[\"sexlives\"] = train.Sex.map(sexlive)\n",
    "train[\"agerangelives\"] = train.AgeRange.map(agerangelive)\n",
    "train[\"Score\"] = train.farerangelives * train.classlives * train.sexlives * train.agerangelives\n",
    "train.head()"
   ]
  },
  {
   "cell_type": "code",
   "execution_count": 31,
   "metadata": {
    "collapsed": false
   },
   "outputs": [
    {
     "data": {
      "text/html": [
       "<div>\n",
       "<table border=\"1\" class=\"dataframe\">\n",
       "  <thead>\n",
       "    <tr style=\"text-align: right;\">\n",
       "      <th></th>\n",
       "      <th>PassengerId</th>\n",
       "      <th>Pclass</th>\n",
       "      <th>Name</th>\n",
       "      <th>Sex</th>\n",
       "      <th>Age</th>\n",
       "      <th>SibSp</th>\n",
       "      <th>Parch</th>\n",
       "      <th>Ticket</th>\n",
       "      <th>Fare</th>\n",
       "      <th>Cabin</th>\n",
       "      <th>Embarked</th>\n",
       "      <th>FareRange</th>\n",
       "      <th>AgeRange</th>\n",
       "    </tr>\n",
       "  </thead>\n",
       "  <tbody>\n",
       "    <tr>\n",
       "      <th>0</th>\n",
       "      <td>892</td>\n",
       "      <td>3</td>\n",
       "      <td>Kelly, Mr. James</td>\n",
       "      <td>male</td>\n",
       "      <td>34.5</td>\n",
       "      <td>0</td>\n",
       "      <td>0</td>\n",
       "      <td>330911</td>\n",
       "      <td>7.8292</td>\n",
       "      <td>NaN</td>\n",
       "      <td>Q</td>\n",
       "      <td>30+</td>\n",
       "      <td>18to35</td>\n",
       "    </tr>\n",
       "    <tr>\n",
       "      <th>1</th>\n",
       "      <td>893</td>\n",
       "      <td>3</td>\n",
       "      <td>Wilkes, Mrs. James (Ellen Needs)</td>\n",
       "      <td>female</td>\n",
       "      <td>47.0</td>\n",
       "      <td>1</td>\n",
       "      <td>0</td>\n",
       "      <td>363272</td>\n",
       "      <td>7.0000</td>\n",
       "      <td>NaN</td>\n",
       "      <td>S</td>\n",
       "      <td>30+</td>\n",
       "      <td>35to50</td>\n",
       "    </tr>\n",
       "    <tr>\n",
       "      <th>2</th>\n",
       "      <td>894</td>\n",
       "      <td>2</td>\n",
       "      <td>Myles, Mr. Thomas Francis</td>\n",
       "      <td>male</td>\n",
       "      <td>62.0</td>\n",
       "      <td>0</td>\n",
       "      <td>0</td>\n",
       "      <td>240276</td>\n",
       "      <td>9.6875</td>\n",
       "      <td>NaN</td>\n",
       "      <td>Q</td>\n",
       "      <td>30+</td>\n",
       "      <td>50_plus</td>\n",
       "    </tr>\n",
       "    <tr>\n",
       "      <th>3</th>\n",
       "      <td>895</td>\n",
       "      <td>3</td>\n",
       "      <td>Wirz, Mr. Albert</td>\n",
       "      <td>male</td>\n",
       "      <td>27.0</td>\n",
       "      <td>0</td>\n",
       "      <td>0</td>\n",
       "      <td>315154</td>\n",
       "      <td>8.6625</td>\n",
       "      <td>NaN</td>\n",
       "      <td>S</td>\n",
       "      <td>20to30</td>\n",
       "      <td>18to35</td>\n",
       "    </tr>\n",
       "    <tr>\n",
       "      <th>4</th>\n",
       "      <td>896</td>\n",
       "      <td>3</td>\n",
       "      <td>Hirvonen, Mrs. Alexander (Helga E Lindqvist)</td>\n",
       "      <td>female</td>\n",
       "      <td>22.0</td>\n",
       "      <td>1</td>\n",
       "      <td>1</td>\n",
       "      <td>3101298</td>\n",
       "      <td>12.2875</td>\n",
       "      <td>NaN</td>\n",
       "      <td>S</td>\n",
       "      <td>20to30</td>\n",
       "      <td>18to35</td>\n",
       "    </tr>\n",
       "  </tbody>\n",
       "</table>\n",
       "</div>"
      ],
      "text/plain": [
       "   PassengerId  Pclass                                          Name     Sex  \\\n",
       "0          892       3                              Kelly, Mr. James    male   \n",
       "1          893       3              Wilkes, Mrs. James (Ellen Needs)  female   \n",
       "2          894       2                     Myles, Mr. Thomas Francis    male   \n",
       "3          895       3                              Wirz, Mr. Albert    male   \n",
       "4          896       3  Hirvonen, Mrs. Alexander (Helga E Lindqvist)  female   \n",
       "\n",
       "    Age  SibSp  Parch   Ticket     Fare Cabin Embarked FareRange AgeRange  \n",
       "0  34.5      0      0   330911   7.8292   NaN        Q       30+   18to35  \n",
       "1  47.0      1      0   363272   7.0000   NaN        S       30+   35to50  \n",
       "2  62.0      0      0   240276   9.6875   NaN        Q       30+  50_plus  \n",
       "3  27.0      0      0   315154   8.6625   NaN        S    20to30   18to35  \n",
       "4  22.0      1      1  3101298  12.2875   NaN        S    20to30   18to35  "
      ]
     },
     "execution_count": 31,
     "metadata": {},
     "output_type": "execute_result"
    }
   ],
   "source": [
    "test = pd.read_csv(\"titanic/test.csv\")\n",
    "test[\"FareRange\"] = test.Age.map(create_fare_range)\n",
    "test[\"AgeRange\"] = test[\"Age\"].map(create_age_range)\n",
    "test.head()"
   ]
  },
  {
   "cell_type": "code",
   "execution_count": 33,
   "metadata": {
    "collapsed": true
   },
   "outputs": [],
   "source": [
    "test[\"farerangelives\"] = test.FareRange.map(farerangelive)\n",
    "test[\"classlives\"] = test.Pclass.map(classlive)\n",
    "test[\"sexlives\"] = test.Sex.map(sexlive)\n",
    "test[\"agerangelives\"] = test.AgeRange.map(agerangelive)\n",
    "test[\"Score\"] = test.farerangelives * test.classlives * test.sexlives * test.agerangelives\n",
    "test = test.sort(columns=[\"Score\"], ascending=False)"
   ]
  },
  {
   "cell_type": "code",
   "execution_count": 34,
   "metadata": {
    "collapsed": true
   },
   "outputs": [],
   "source": [
    "count = len(test)\n",
    "n = range(len(test))\n",
    "limit = int(len(test) * 0.33333)\n",
    "test.index = range(len(test))\n",
    "test[\"rank\"] = test.index"
   ]
  },
  {
   "cell_type": "code",
   "execution_count": 35,
   "metadata": {
    "collapsed": true
   },
   "outputs": [],
   "source": [
    "def survivors(rank):\n",
    "    if rank < limit:\n",
    "        return 1\n",
    "    else:\n",
    "        return 0\n",
    "\n",
    "test[\"Survived\"] = test[\"rank\"].map(survivors)\n"
   ]
  },
  {
   "cell_type": "code",
   "execution_count": null,
   "metadata": {
    "collapsed": true
   },
   "outputs": [],
   "source": []
  },
  {
   "cell_type": "code",
   "execution_count": null,
   "metadata": {
    "collapsed": true
   },
   "outputs": [],
   "source": [
    "test1 = test[['PassengerId','Survived']]\n",
    "test1.to_csv(\"titanic/ID_survival.csv\", index=False)"
   ]
  },
  {
   "cell_type": "code",
   "execution_count": null,
   "metadata": {
    "collapsed": true
   },
   "outputs": [],
   "source": []
  },
  {
   "cell_type": "code",
   "execution_count": null,
   "metadata": {
    "collapsed": true
   },
   "outputs": [],
   "source": []
  },
  {
   "cell_type": "code",
   "execution_count": null,
   "metadata": {
    "collapsed": true
   },
   "outputs": [],
   "source": []
  },
  {
   "cell_type": "code",
   "execution_count": null,
   "metadata": {
    "collapsed": true
   },
   "outputs": [],
   "source": []
  },
  {
   "cell_type": "code",
   "execution_count": null,
   "metadata": {
    "collapsed": true
   },
   "outputs": [],
   "source": []
  }
 ],
 "metadata": {
  "kernelspec": {
   "display_name": "Python 3",
   "language": "python",
   "name": "python3"
  },
  "language_info": {
   "codemirror_mode": {
    "name": "ipython",
    "version": 3
   },
   "file_extension": ".py",
   "mimetype": "text/x-python",
   "name": "python",
   "nbconvert_exporter": "python",
   "pygments_lexer": "ipython3",
   "version": "3.5.0"
  }
 },
 "nbformat": 4,
 "nbformat_minor": 0
}
